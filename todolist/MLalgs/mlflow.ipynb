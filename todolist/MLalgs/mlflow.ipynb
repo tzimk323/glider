{
 "cells": [
  {
   "cell_type": "code",
   "execution_count": 2,
   "metadata": {
    "collapsed": true
   },
   "outputs": [
    {
     "ename": "NameError",
     "evalue": "name 'MLFLOW' is not defined",
     "output_type": "error",
     "traceback": [
      "\u001B[1;31m---------------------------------------------------------------------------\u001B[0m",
      "\u001B[1;31mNameError\u001B[0m                                 Traceback (most recent call last)",
      "Cell \u001B[1;32mIn[2], line 1\u001B[0m\n\u001B[1;32m----> 1\u001B[0m \u001B[43mMLFLOW\u001B[49m\n\u001B[0;32m      3\u001B[0m \u001B[38;5;66;03m# to start\u001B[39;00m\n",
      "\u001B[1;31mNameError\u001B[0m: name 'MLFLOW' is not defined"
     ]
    }
   ],
   "source": [
    "# MLFLOW\n",
    "\n",
    "#RUN\n",
    "# mlflow server ή mlflow ui\n",
    "\n",
    "#http://127.0.0.1:5000/\n",
    "\n",
    "#\n",
    "# mlflow server \\\n",
    "#     --host 0.0.0.0 \\\n",
    "#     --port 8885 \\\n",
    "#     --artifacts-destination hdfs://myhost:8887/mlprojects/models \\"
   ]
  },
  {
   "cell_type": "code",
   "execution_count": 1,
   "outputs": [],
   "source": [
    "import mlflow\n",
    "from sklearn.model_selection import train_test_split\n",
    "from sklearn.datasets import load_diabetes\n",
    "from sklearn.ensemble import RandomForestRegressor\n",
    "from mlflow.models import infer_signature\n"
   ],
   "metadata": {
    "collapsed": false
   }
  },
  {
   "cell_type": "markdown",
   "source": [
    "\n",
    "Το autolog ολα τα καταγράφει αλλίως απλά πρέπει να τα χώσεις manual με το start.run\n",
    "![](images/autolog.png)\n"
   ],
   "metadata": {
    "collapsed": false
   }
  },
  {
   "cell_type": "code",
   "execution_count": 2,
   "outputs": [
    {
     "name": "stderr",
     "output_type": "stream",
     "text": [
      "2023/09/21 19:36:21 INFO mlflow.tracking.fluent: Autologging successfully enabled for sklearn.\n",
      "2023/09/21 19:36:21 INFO mlflow.utils.autologging_utils: Created MLflow autologging run with ID 'cd565eabcaa04d908e5e0002ae1463c3', which will track hyperparameters, performance metrics, model artifacts, and lineage information for the current sklearn workflow\n",
      "2023/09/21 19:36:25 WARNING mlflow.utils.autologging_utils: MLflow autologging encountered a warning: \"C:\\Users\\tzim3\\Desktop\\TheGliderProject\\Alpha\\fastApiProject\\neoenv\\Lib\\site-packages\\_distutils_hack\\__init__.py:33: UserWarning: Setuptools is replacing distutils.\"\n"
     ]
    }
   ],
   "source": [
    "# set the experiment id\n",
    "# mlflow.set_experiment(experiment_id=\"1\")\n",
    "# mlflow.set_experiment(experiment_name=\"newExp\")\n",
    "\n",
    "\n",
    "#ousiastika to mlflow.autolog einai gia na metraei oti xreiazetai\n",
    "mlflow.autolog()\n",
    "db = load_diabetes()\n",
    "X_train, X_test, y_train, y_test = train_test_split(db.data, db.target)\n",
    "# Create and train models.\n",
    "rf = RandomForestRegressor(n_estimators=100, max_depth=6, max_features=3)\n",
    "rf.fit(X_train, y_train)\n",
    "\n",
    "# Use the model to make predictions on the test dataset.\n",
    "predictions = rf.predict(X_test)\n"
   ],
   "metadata": {
    "collapsed": false
   }
  },
  {
   "cell_type": "code",
   "execution_count": null,
   "outputs": [],
   "source": [],
   "metadata": {
    "collapsed": false
   }
  },
  {
   "cell_type": "code",
   "execution_count": 32,
   "outputs": [
    {
     "name": "stdout",
     "output_type": "stream",
     "text": [
      "[249.82514954 100.16293964 208.63129502 147.40427563 166.23584939\n",
      " 196.87276848 162.02285875 187.77739205  83.9518785  241.80028694\n",
      " 103.81556407 236.09795285 185.33894024 161.52679838 224.13368107\n",
      " 134.13227444 146.65749396 187.98879124 219.0942822  178.66868308\n",
      " 171.81973718 168.27917827  92.22482415 211.54053253 129.07131508\n",
      "  82.78665748 213.62783046  93.86785022 156.99488399 122.75138115\n",
      "  97.67763605 105.78891231  99.45757792  95.13018943 132.48983628\n",
      " 160.86621526 179.1042625  135.21055585  95.47257487 132.84336509\n",
      " 127.95687563 165.90377978 114.15411717  91.93740606 107.68545506\n",
      " 194.60390827 146.10501606 155.24755995 252.96196397 143.30041831\n",
      " 113.21964177 110.15730708 102.73520346  95.97991821 233.26763557\n",
      " 102.59246628 206.39642544  93.76859408 160.94447574  92.13246801\n",
      " 166.57197067 176.99924585 156.11363054 223.31249293 240.76281237\n",
      " 195.03877054 151.1257044  230.96754019 201.39238795 171.75790236\n",
      " 214.21786943 166.09463987 181.44211781 236.14774692 150.25641531\n",
      "  99.58720056 124.08790897 119.01597342 168.66195341 106.12812058\n",
      "  88.05463436  81.85203926 108.07993863 163.86552597  84.61084154\n",
      " 110.26895434 171.81093749 188.95862176 223.10517348  90.11630765\n",
      " 267.50760929 247.88960368  78.92632806  98.91486771 136.89560191\n",
      " 122.46445641 142.51674304  96.24582501 179.80787859 218.55384081\n",
      "  85.8857473  179.23038288 127.34237268  82.96840206 169.58474749\n",
      " 112.03605555 104.41251247 157.06626106 213.16532953  86.60656571\n",
      " 220.20893695]\n",
      "Run ID: 741468dba0de4e2e840402b4d24c921a\n"
     ]
    },
    {
     "name": "stderr",
     "output_type": "stream",
     "text": [
      "C:\\Users\\tzim3\\Desktop\\TheGliderProject\\Alpha\\fastApiProject\\neoenv\\Lib\\site-packages\\_distutils_hack\\__init__.py:18: UserWarning: Distutils was imported before Setuptools, but importing Setuptools also replaces the `distutils` module in `sys.modules`. This may lead to undesirable behaviors or errors. To avoid these issues, avoid using distutils directly, ensure that setuptools is installed in the traditional way (e.g. not an editable install), and/or make sure that setuptools is always imported before distutils.\n",
      "  warnings.warn(\n",
      "C:\\Users\\tzim3\\Desktop\\TheGliderProject\\Alpha\\fastApiProject\\neoenv\\Lib\\site-packages\\_distutils_hack\\__init__.py:33: UserWarning: Setuptools is replacing distutils.\n",
      "  warnings.warn(\"Setuptools is replacing distutils.\")\n"
     ]
    }
   ],
   "source": [
    "#ousiastika to mlflow.start run einai gia na vazeis esu manual ti thes na metriseis\n",
    "model_name = \"my_custom_model_jim\"\n",
    "\n",
    "with mlflow.start_run() as run:\n",
    "    mlflow.log_param(\"learning_rate\", 0.01)\n",
    "    mlflow.log_metric(\"accuracy\", 0.85)\n",
    "    # mlflow.log_artifact(\"model.pkl\")\n",
    "    # Load the diabetes dataset.\n",
    "    db = load_diabetes()\n",
    "    X_train, X_test, y_train, y_test = train_test_split(db.data, db.target)\n",
    "\n",
    "    # Create and train models.\n",
    "    rf = RandomForestRegressor(n_estimators=100, max_depth=6, max_features=3)\n",
    "    rf.fit(X_train, y_train)\n",
    "\n",
    "    # Use the model to make predictions on the test dataset.\n",
    "    predictions = rf.predict(X_test)\n",
    "    print(predictions)\n",
    "\n",
    "    signature = infer_signature(X_test, predictions)\n",
    "    mlflow.sklearn.log_model(rf, \"model_name\", signature=signature)\n",
    "\n",
    "    print(f\"Run ID: {run.info.run_id}\")"
   ],
   "metadata": {
    "collapsed": false
   }
  },
  {
   "cell_type": "code",
   "execution_count": 7,
   "outputs": [
    {
     "ename": "MlflowException",
     "evalue": "Not a proper runs:/ URI: runs:/. Runs URIs must be of the form 'runs:/<run_id>/run-relative/path/to/artifact'",
     "output_type": "error",
     "traceback": [
      "\u001B[1;31m---------------------------------------------------------------------------\u001B[0m",
      "\u001B[1;31mMlflowException\u001B[0m                           Traceback (most recent call last)",
      "Cell \u001B[1;32mIn[7], line 9\u001B[0m\n\u001B[0;32m      6\u001B[0m db \u001B[38;5;241m=\u001B[39m load_diabetes()\n\u001B[0;32m      7\u001B[0m X_train, X_test, y_train, y_test \u001B[38;5;241m=\u001B[39m train_test_split(db\u001B[38;5;241m.\u001B[39mdata, db\u001B[38;5;241m.\u001B[39mtarget)\n\u001B[1;32m----> 9\u001B[0m model \u001B[38;5;241m=\u001B[39m \u001B[43mmlflow\u001B[49m\u001B[38;5;241;43m.\u001B[39;49m\u001B[43msklearn\u001B[49m\u001B[38;5;241;43m.\u001B[39;49m\u001B[43mload_model\u001B[49m\u001B[43m(\u001B[49m\u001B[38;5;124;43m\"\u001B[39;49m\u001B[38;5;124;43mruns:/6a69c768484944f98726ab2e6e753677\u001B[39;49m\u001B[38;5;124;43m\"\u001B[39;49m\u001B[43m)\u001B[49m\n\u001B[0;32m     10\u001B[0m predictions \u001B[38;5;241m=\u001B[39m model\u001B[38;5;241m.\u001B[39mpredict(X_test)\n\u001B[0;32m     11\u001B[0m \u001B[38;5;28mprint\u001B[39m(predictions)\n",
      "File \u001B[1;32m~\\Desktop\\TheGliderProject\\Alpha\\fastApiProject\\neoenv\\Lib\\site-packages\\mlflow\\sklearn\\__init__.py:610\u001B[0m, in \u001B[0;36mload_model\u001B[1;34m(model_uri, dst_path)\u001B[0m\n\u001B[0;32m    577\u001B[0m \u001B[38;5;28;01mdef\u001B[39;00m \u001B[38;5;21mload_model\u001B[39m(model_uri, dst_path\u001B[38;5;241m=\u001B[39m\u001B[38;5;28;01mNone\u001B[39;00m):\n\u001B[0;32m    578\u001B[0m \u001B[38;5;250m    \u001B[39m\u001B[38;5;124;03m\"\"\"\u001B[39;00m\n\u001B[0;32m    579\u001B[0m \u001B[38;5;124;03m    Load a scikit-learn model from a local file or a run.\u001B[39;00m\n\u001B[0;32m    580\u001B[0m \n\u001B[1;32m   (...)\u001B[0m\n\u001B[0;32m    608\u001B[0m \u001B[38;5;124;03m        predictions = sk_model.predict(pandas_df)\u001B[39;00m\n\u001B[0;32m    609\u001B[0m \u001B[38;5;124;03m    \"\"\"\u001B[39;00m\n\u001B[1;32m--> 610\u001B[0m     local_model_path \u001B[38;5;241m=\u001B[39m \u001B[43m_download_artifact_from_uri\u001B[49m\u001B[43m(\u001B[49m\u001B[43martifact_uri\u001B[49m\u001B[38;5;241;43m=\u001B[39;49m\u001B[43mmodel_uri\u001B[49m\u001B[43m,\u001B[49m\u001B[43m \u001B[49m\u001B[43moutput_path\u001B[49m\u001B[38;5;241;43m=\u001B[39;49m\u001B[43mdst_path\u001B[49m\u001B[43m)\u001B[49m\n\u001B[0;32m    611\u001B[0m     flavor_conf \u001B[38;5;241m=\u001B[39m _get_flavor_configuration(model_path\u001B[38;5;241m=\u001B[39mlocal_model_path, flavor_name\u001B[38;5;241m=\u001B[39mFLAVOR_NAME)\n\u001B[0;32m    612\u001B[0m     _add_code_from_conf_to_system_path(local_model_path, flavor_conf)\n",
      "File \u001B[1;32m~\\Desktop\\TheGliderProject\\Alpha\\fastApiProject\\neoenv\\Lib\\site-packages\\mlflow\\tracking\\artifact_utils.py:100\u001B[0m, in \u001B[0;36m_download_artifact_from_uri\u001B[1;34m(artifact_uri, output_path)\u001B[0m\n\u001B[0;32m     94\u001B[0m \u001B[38;5;250m\u001B[39m\u001B[38;5;124;03m\"\"\"\u001B[39;00m\n\u001B[0;32m     95\u001B[0m \u001B[38;5;124;03m:param artifact_uri: The *absolute* URI of the artifact to download.\u001B[39;00m\n\u001B[0;32m     96\u001B[0m \u001B[38;5;124;03m:param output_path: The local filesystem path to which to download the artifact. If unspecified,\u001B[39;00m\n\u001B[0;32m     97\u001B[0m \u001B[38;5;124;03m                    a local output path will be created.\u001B[39;00m\n\u001B[0;32m     98\u001B[0m \u001B[38;5;124;03m\"\"\"\u001B[39;00m\n\u001B[0;32m     99\u001B[0m root_uri, artifact_path \u001B[38;5;241m=\u001B[39m _get_root_uri_and_artifact_path(artifact_uri)\n\u001B[1;32m--> 100\u001B[0m \u001B[38;5;28;01mreturn\u001B[39;00m \u001B[43mget_artifact_repository\u001B[49m\u001B[43m(\u001B[49m\u001B[43martifact_uri\u001B[49m\u001B[38;5;241;43m=\u001B[39;49m\u001B[43mroot_uri\u001B[49m\u001B[43m)\u001B[49m\u001B[38;5;241m.\u001B[39mdownload_artifacts(\n\u001B[0;32m    101\u001B[0m     artifact_path\u001B[38;5;241m=\u001B[39martifact_path, dst_path\u001B[38;5;241m=\u001B[39moutput_path\n\u001B[0;32m    102\u001B[0m )\n",
      "File \u001B[1;32m~\\Desktop\\TheGliderProject\\Alpha\\fastApiProject\\neoenv\\Lib\\site-packages\\mlflow\\store\\artifact\\artifact_repository_registry.py:115\u001B[0m, in \u001B[0;36mget_artifact_repository\u001B[1;34m(artifact_uri)\u001B[0m\n\u001B[0;32m    105\u001B[0m \u001B[38;5;28;01mdef\u001B[39;00m \u001B[38;5;21mget_artifact_repository\u001B[39m(artifact_uri):\n\u001B[0;32m    106\u001B[0m \u001B[38;5;250m    \u001B[39m\u001B[38;5;124;03m\"\"\"Get an artifact repository from the registry based on the scheme of artifact_uri\u001B[39;00m\n\u001B[0;32m    107\u001B[0m \n\u001B[0;32m    108\u001B[0m \u001B[38;5;124;03m    :param artifact_uri: The artifact store URI. This URI is used to select which artifact\u001B[39;00m\n\u001B[1;32m   (...)\u001B[0m\n\u001B[0;32m    113\u001B[0m \u001B[38;5;124;03m             requirements.\u001B[39;00m\n\u001B[0;32m    114\u001B[0m \u001B[38;5;124;03m    \"\"\"\u001B[39;00m\n\u001B[1;32m--> 115\u001B[0m     \u001B[38;5;28;01mreturn\u001B[39;00m \u001B[43m_artifact_repository_registry\u001B[49m\u001B[38;5;241;43m.\u001B[39;49m\u001B[43mget_artifact_repository\u001B[49m\u001B[43m(\u001B[49m\u001B[43martifact_uri\u001B[49m\u001B[43m)\u001B[49m\n",
      "File \u001B[1;32m~\\Desktop\\TheGliderProject\\Alpha\\fastApiProject\\neoenv\\Lib\\site-packages\\mlflow\\store\\artifact\\artifact_repository_registry.py:72\u001B[0m, in \u001B[0;36mArtifactRepositoryRegistry.get_artifact_repository\u001B[1;34m(self, artifact_uri)\u001B[0m\n\u001B[0;32m     67\u001B[0m \u001B[38;5;28;01mif\u001B[39;00m repository \u001B[38;5;129;01mis\u001B[39;00m \u001B[38;5;28;01mNone\u001B[39;00m:\n\u001B[0;32m     68\u001B[0m     \u001B[38;5;28;01mraise\u001B[39;00m MlflowException(\n\u001B[0;32m     69\u001B[0m         \u001B[38;5;124mf\u001B[39m\u001B[38;5;124m\"\u001B[39m\u001B[38;5;124mCould not find a registered artifact repository for: \u001B[39m\u001B[38;5;132;01m{\u001B[39;00martifact_uri\u001B[38;5;132;01m}\u001B[39;00m\u001B[38;5;124m. \u001B[39m\u001B[38;5;124m\"\u001B[39m\n\u001B[0;32m     70\u001B[0m         \u001B[38;5;124mf\u001B[39m\u001B[38;5;124m\"\u001B[39m\u001B[38;5;124mCurrently registered schemes are: \u001B[39m\u001B[38;5;132;01m{\u001B[39;00m\u001B[38;5;28mlist\u001B[39m(\u001B[38;5;28mself\u001B[39m\u001B[38;5;241m.\u001B[39m_registry\u001B[38;5;241m.\u001B[39mkeys())\u001B[38;5;132;01m}\u001B[39;00m\u001B[38;5;124m\"\u001B[39m\n\u001B[0;32m     71\u001B[0m     )\n\u001B[1;32m---> 72\u001B[0m \u001B[38;5;28;01mreturn\u001B[39;00m \u001B[43mrepository\u001B[49m\u001B[43m(\u001B[49m\u001B[43martifact_uri\u001B[49m\u001B[43m)\u001B[49m\n",
      "File \u001B[1;32m~\\Desktop\\TheGliderProject\\Alpha\\fastApiProject\\neoenv\\Lib\\site-packages\\mlflow\\store\\artifact\\runs_artifact_repo.py:26\u001B[0m, in \u001B[0;36mRunsArtifactRepository.__init__\u001B[1;34m(self, artifact_uri)\u001B[0m\n\u001B[0;32m     23\u001B[0m \u001B[38;5;28;01mfrom\u001B[39;00m \u001B[38;5;21;01mmlflow\u001B[39;00m\u001B[38;5;21;01m.\u001B[39;00m\u001B[38;5;21;01mstore\u001B[39;00m\u001B[38;5;21;01m.\u001B[39;00m\u001B[38;5;21;01martifact\u001B[39;00m\u001B[38;5;21;01m.\u001B[39;00m\u001B[38;5;21;01martifact_repository_registry\u001B[39;00m \u001B[38;5;28;01mimport\u001B[39;00m get_artifact_repository\n\u001B[0;32m     25\u001B[0m \u001B[38;5;28msuper\u001B[39m()\u001B[38;5;241m.\u001B[39m\u001B[38;5;21m__init__\u001B[39m(artifact_uri)\n\u001B[1;32m---> 26\u001B[0m uri \u001B[38;5;241m=\u001B[39m \u001B[43mRunsArtifactRepository\u001B[49m\u001B[38;5;241;43m.\u001B[39;49m\u001B[43mget_underlying_uri\u001B[49m\u001B[43m(\u001B[49m\u001B[43martifact_uri\u001B[49m\u001B[43m)\u001B[49m\n\u001B[0;32m     27\u001B[0m \u001B[38;5;28mself\u001B[39m\u001B[38;5;241m.\u001B[39mrepo \u001B[38;5;241m=\u001B[39m get_artifact_repository(uri)\n",
      "File \u001B[1;32m~\\Desktop\\TheGliderProject\\Alpha\\fastApiProject\\neoenv\\Lib\\site-packages\\mlflow\\store\\artifact\\runs_artifact_repo.py:37\u001B[0m, in \u001B[0;36mRunsArtifactRepository.get_underlying_uri\u001B[1;34m(runs_uri)\u001B[0m\n\u001B[0;32m     33\u001B[0m \u001B[38;5;129m@staticmethod\u001B[39m\n\u001B[0;32m     34\u001B[0m \u001B[38;5;28;01mdef\u001B[39;00m \u001B[38;5;21mget_underlying_uri\u001B[39m(runs_uri):\n\u001B[0;32m     35\u001B[0m     \u001B[38;5;28;01mfrom\u001B[39;00m \u001B[38;5;21;01mmlflow\u001B[39;00m\u001B[38;5;21;01m.\u001B[39;00m\u001B[38;5;21;01mtracking\u001B[39;00m\u001B[38;5;21;01m.\u001B[39;00m\u001B[38;5;21;01martifact_utils\u001B[39;00m \u001B[38;5;28;01mimport\u001B[39;00m get_artifact_uri\n\u001B[1;32m---> 37\u001B[0m     (run_id, artifact_path) \u001B[38;5;241m=\u001B[39m \u001B[43mRunsArtifactRepository\u001B[49m\u001B[38;5;241;43m.\u001B[39;49m\u001B[43mparse_runs_uri\u001B[49m\u001B[43m(\u001B[49m\u001B[43mruns_uri\u001B[49m\u001B[43m)\u001B[49m\n\u001B[0;32m     38\u001B[0m     tracking_uri \u001B[38;5;241m=\u001B[39m get_databricks_profile_uri_from_artifact_uri(runs_uri)\n\u001B[0;32m     39\u001B[0m     uri \u001B[38;5;241m=\u001B[39m get_artifact_uri(run_id, artifact_path, tracking_uri)\n",
      "File \u001B[1;32m~\\Desktop\\TheGliderProject\\Alpha\\fastApiProject\\neoenv\\Lib\\site-packages\\mlflow\\store\\artifact\\runs_artifact_repo.py:54\u001B[0m, in \u001B[0;36mRunsArtifactRepository.parse_runs_uri\u001B[1;34m(run_uri)\u001B[0m\n\u001B[0;32m     52\u001B[0m path \u001B[38;5;241m=\u001B[39m parsed\u001B[38;5;241m.\u001B[39mpath\n\u001B[0;32m     53\u001B[0m \u001B[38;5;28;01mif\u001B[39;00m \u001B[38;5;129;01mnot\u001B[39;00m path\u001B[38;5;241m.\u001B[39mstartswith(\u001B[38;5;124m\"\u001B[39m\u001B[38;5;124m/\u001B[39m\u001B[38;5;124m\"\u001B[39m) \u001B[38;5;129;01mor\u001B[39;00m \u001B[38;5;28mlen\u001B[39m(path) \u001B[38;5;241m<\u001B[39m\u001B[38;5;241m=\u001B[39m \u001B[38;5;241m1\u001B[39m:\n\u001B[1;32m---> 54\u001B[0m     \u001B[38;5;28;01mraise\u001B[39;00m MlflowException(\n\u001B[0;32m     55\u001B[0m         \u001B[38;5;124mf\u001B[39m\u001B[38;5;124m\"\u001B[39m\u001B[38;5;124mNot a proper runs:/ URI: \u001B[39m\u001B[38;5;132;01m{\u001B[39;00mrun_uri\u001B[38;5;132;01m}\u001B[39;00m\u001B[38;5;124m. \u001B[39m\u001B[38;5;124m\"\u001B[39m\n\u001B[0;32m     56\u001B[0m         \u001B[38;5;241m+\u001B[39m \u001B[38;5;124m\"\u001B[39m\u001B[38;5;124mRuns URIs must be of the form \u001B[39m\u001B[38;5;124m'\u001B[39m\u001B[38;5;124mruns:/<run_id>/run-relative/path/to/artifact\u001B[39m\u001B[38;5;124m'\u001B[39m\u001B[38;5;124m\"\u001B[39m\n\u001B[0;32m     57\u001B[0m     )\n\u001B[0;32m     58\u001B[0m path \u001B[38;5;241m=\u001B[39m path[\u001B[38;5;241m1\u001B[39m:]\n\u001B[0;32m     60\u001B[0m path_parts \u001B[38;5;241m=\u001B[39m path\u001B[38;5;241m.\u001B[39msplit(\u001B[38;5;124m\"\u001B[39m\u001B[38;5;124m/\u001B[39m\u001B[38;5;124m\"\u001B[39m)\n",
      "\u001B[1;31mMlflowException\u001B[0m: Not a proper runs:/ URI: runs:/. Runs URIs must be of the form 'runs:/<run_id>/run-relative/path/to/artifact'"
     ]
    }
   ],
   "source": [
    "#kapws etsi fortwneis modelo p exei idi treksei\n",
    "import mlflow\n",
    "\n",
    "from sklearn.model_selection import train_test_split\n",
    "from sklearn.datasets import load_diabetes\n",
    "\n",
    "db = load_diabetes()\n",
    "X_train, X_test, y_train, y_test = train_test_split(db.data, db.target)\n",
    "\n",
    "model = mlflow.sklearn.load_model(\"runs:/6a69c768484944f98726ab2e6e753677\")\n",
    "predictions = model.predict(X_test)\n",
    "print(predictions)"
   ],
   "metadata": {
    "collapsed": false
   }
  },
  {
   "cell_type": "code",
   "execution_count": null,
   "outputs": [],
   "source": [
    "\n",
    "#kati me hyperparameters den katalava kala\n",
    "# export MLFLOW_TRACKING_URI=http://localhost:5000\n",
    "# mlflow run -e hyperopt"
   ],
   "metadata": {
    "collapsed": false
   }
  },
  {
   "cell_type": "markdown",
   "source": [
    "#Afou exei apothikeutei to modelo st experiments mproeis na to kaneis register kai na to exeis sta tabs twn models\n",
    "\n",
    "![](images/seeModel.png)"
   ],
   "metadata": {
    "collapsed": false
   }
  },
  {
   "cell_type": "code",
   "execution_count": null,
   "outputs": [],
   "source": [
    "# mlflow models serve -m \"models:/newTest/1\" --port 5002\n",
    "# automata to servireis se api etsi\n",
    "\n",
    "\n",
    "# AUTO EINAI GIA NA TREKSEIS PROJECT (Px na to ksanaekpaideuseis dld)\n",
    " # mlflow.projects.run()"
   ],
   "metadata": {
    "collapsed": false
   }
  },
  {
   "cell_type": "code",
   "execution_count": null,
   "outputs": [],
   "source": [
    "# mlflow.create_experiment() creates a new experiment and returns its ID. Runs can be launched under the experiment by passing the experiment ID to mlflow.start_run.\n",
    "#\n",
    "# mlflow.set_experiment() sets an experiment as active. If the experiment does not exist, creates a new experiment. If you do not specify an experiment in mlflow.start_run(), new runs are launched under this experiment.\n",
    "#\n",
    "# mlflow.start_run() returns the currently active run (if one exists), or starts a new run and returns a mlflow.ActiveRun object usable as a context manager for the current run. You do not need to call start_run explicitly: calling one of the logging functions with no active run automatically starts a new one."
   ],
   "metadata": {
    "collapsed": false
   }
  },
  {
   "cell_type": "code",
   "execution_count": null,
   "outputs": [],
   "source": [
    "#ETSI FTIAXNEIS NEO EXPERIMENT\n",
    "# Set the name of the experiment\n",
    "experiment_name = \"MyNewExperiment\"\n",
    "\n",
    "# Create a new experiment or get the ID of an existing one\n",
    "experiment_id = mlflow.create_experiment(experiment_name)\n",
    "\n",
    "# Set the current experiment to the newly created/existing experiment\n",
    "mlflow.set_experiment(experiment_name)"
   ],
   "metadata": {
    "collapsed": false
   }
  },
  {
   "cell_type": "code",
   "execution_count": 20,
   "outputs": [],
   "source": [
    "#set NAME (VSK TAG VAZEIS)\n",
    "#episis otan to trexeis auto den stamatei to run ektos an tou xwseis to mlflow.end_run to gia auto vazeis to start run gia na stamataei otan teleiwsoun oi sunartiseis\n",
    "\n",
    "import mlflow\n",
    "\n",
    "# Start a new MLflow run\n",
    "\n",
    "# Set a custom name for the run\n",
    "mlflow.set_tag(\"name\", \"My Custom Run Name\")\n",
    "# Log metrics, parameters, and artifacts for this run\n",
    "mlflow.log_param(\"learning_rate\", 0.01)\n",
    "mlflow.log_metric(\"accuracy\", 0.85)\n",
    "\n",
    "\n",
    "mlflow.end_run()"
   ],
   "metadata": {
    "collapsed": false
   }
  },
  {
   "cell_type": "code",
   "execution_count": 30,
   "outputs": [],
   "source": [
    "mlflow.end_run()"
   ],
   "metadata": {
    "collapsed": false
   }
  },
  {
   "cell_type": "code",
   "execution_count": 21,
   "outputs": [
    {
     "ename": "Exception",
     "evalue": "Run with UUID 8d45d83d5b514feaac3d344dfc04aa84 is already active. To start a new run, first end the current run with mlflow.end_run(). To start a nested run, call start_run with nested=True",
     "output_type": "error",
     "traceback": [
      "\u001B[1;31m---------------------------------------------------------------------------\u001B[0m",
      "\u001B[1;31mException\u001B[0m                                 Traceback (most recent call last)",
      "Cell \u001B[1;32mIn[21], line 1\u001B[0m\n\u001B[1;32m----> 1\u001B[0m \u001B[38;5;28;01mwith\u001B[39;00m \u001B[43mmlflow\u001B[49m\u001B[38;5;241;43m.\u001B[39;49m\u001B[43mstart_run\u001B[49m\u001B[43m(\u001B[49m\u001B[43m)\u001B[49m:\n\u001B[0;32m      2\u001B[0m     mlflow\u001B[38;5;241m.\u001B[39mlog_param(\u001B[38;5;124m\"\u001B[39m\u001B[38;5;124mx\u001B[39m\u001B[38;5;124m\"\u001B[39m, \u001B[38;5;241m1\u001B[39m)\n\u001B[0;32m      3\u001B[0m     mlflow\u001B[38;5;241m.\u001B[39mlog_metric(\u001B[38;5;124m\"\u001B[39m\u001B[38;5;124my\u001B[39m\u001B[38;5;124m\"\u001B[39m, \u001B[38;5;241m2\u001B[39m)\n",
      "File \u001B[1;32m~\\Desktop\\TheGliderProject\\Alpha\\fastApiProject\\neoenv\\Lib\\site-packages\\mlflow\\tracking\\fluent.py:286\u001B[0m, in \u001B[0;36mstart_run\u001B[1;34m(run_id, experiment_id, run_name, nested, tags, description)\u001B[0m\n\u001B[0;32m    284\u001B[0m experiment_id \u001B[38;5;241m=\u001B[39m \u001B[38;5;28mstr\u001B[39m(experiment_id) \u001B[38;5;28;01mif\u001B[39;00m \u001B[38;5;28misinstance\u001B[39m(experiment_id, \u001B[38;5;28mint\u001B[39m) \u001B[38;5;28;01melse\u001B[39;00m experiment_id\n\u001B[0;32m    285\u001B[0m \u001B[38;5;28;01mif\u001B[39;00m \u001B[38;5;28mlen\u001B[39m(_active_run_stack) \u001B[38;5;241m>\u001B[39m \u001B[38;5;241m0\u001B[39m \u001B[38;5;129;01mand\u001B[39;00m \u001B[38;5;129;01mnot\u001B[39;00m nested:\n\u001B[1;32m--> 286\u001B[0m     \u001B[38;5;28;01mraise\u001B[39;00m \u001B[38;5;167;01mException\u001B[39;00m(\n\u001B[0;32m    287\u001B[0m         (\n\u001B[0;32m    288\u001B[0m             \u001B[38;5;124m\"\u001B[39m\u001B[38;5;124mRun with UUID \u001B[39m\u001B[38;5;132;01m{}\u001B[39;00m\u001B[38;5;124m is already active. To start a new run, first end the \u001B[39m\u001B[38;5;124m\"\u001B[39m\n\u001B[0;32m    289\u001B[0m             \u001B[38;5;241m+\u001B[39m \u001B[38;5;124m\"\u001B[39m\u001B[38;5;124mcurrent run with mlflow.end_run(). To start a nested \u001B[39m\u001B[38;5;124m\"\u001B[39m\n\u001B[0;32m    290\u001B[0m             \u001B[38;5;241m+\u001B[39m \u001B[38;5;124m\"\u001B[39m\u001B[38;5;124mrun, call start_run with nested=True\u001B[39m\u001B[38;5;124m\"\u001B[39m\n\u001B[0;32m    291\u001B[0m         )\u001B[38;5;241m.\u001B[39mformat(_active_run_stack[\u001B[38;5;241m0\u001B[39m]\u001B[38;5;241m.\u001B[39minfo\u001B[38;5;241m.\u001B[39mrun_id)\n\u001B[0;32m    292\u001B[0m     )\n\u001B[0;32m    293\u001B[0m client \u001B[38;5;241m=\u001B[39m MlflowClient()\n\u001B[0;32m    294\u001B[0m \u001B[38;5;28;01mif\u001B[39;00m run_id:\n",
      "\u001B[1;31mException\u001B[0m: Run with UUID 8d45d83d5b514feaac3d344dfc04aa84 is already active. To start a new run, first end the current run with mlflow.end_run(). To start a nested run, call start_run with nested=True"
     ]
    }
   ],
   "source": [
    "with mlflow.start_run():\n",
    "    mlflow.log_param(\"x\", 1)\n",
    "    mlflow.log_metric(\"y\", 2)"
   ],
   "metadata": {
    "collapsed": false
   }
  },
  {
   "cell_type": "code",
   "execution_count": 36,
   "outputs": [
    {
     "name": "stderr",
     "output_type": "stream",
     "text": [
      "2023/09/21 19:35:28 WARNING mlflow.utils.autologging_utils: MLflow autologging encountered a warning: \"C:\\Users\\tzim3\\Desktop\\TheGliderProject\\Alpha\\fastApiProject\\neoenv\\Lib\\site-packages\\_distutils_hack\\__init__.py:18: UserWarning: Distutils was imported before Setuptools, but importing Setuptools also replaces the `distutils` module in `sys.modules`. This may lead to undesirable behaviors or errors. To avoid these issues, avoid using distutils directly, ensure that setuptools is installed in the traditional way (e.g. not an editable install), and/or make sure that setuptools is always imported before distutils.\"\n",
      "2023/09/21 19:35:28 WARNING mlflow.utils.autologging_utils: MLflow autologging encountered a warning: \"C:\\Users\\tzim3\\Desktop\\TheGliderProject\\Alpha\\fastApiProject\\neoenv\\Lib\\site-packages\\_distutils_hack\\__init__.py:33: UserWarning: Setuptools is replacing distutils.\"\n"
     ]
    },
    {
     "ename": "AssertionError",
     "evalue": "C:\\Users\\tzim3\\AppData\\Local\\Programs\\Python\\Python311\\Lib\\distutils\\core.py",
     "output_type": "error",
     "traceback": [
      "\u001B[1;31m---------------------------------------------------------------------------\u001B[0m",
      "\u001B[1;31mAssertionError\u001B[0m                            Traceback (most recent call last)",
      "Cell \u001B[1;32mIn[36], line 2\u001B[0m\n\u001B[0;32m      1\u001B[0m \u001B[38;5;66;03m# Enable automatic logging for scikit-learn\u001B[39;00m\n\u001B[1;32m----> 2\u001B[0m \u001B[43mmlflow\u001B[49m\u001B[38;5;241;43m.\u001B[39;49m\u001B[43msklearn\u001B[49m\u001B[38;5;241;43m.\u001B[39;49m\u001B[43mautolog\u001B[49m\u001B[43m(\u001B[49m\u001B[43m)\u001B[49m\n\u001B[0;32m      3\u001B[0m \u001B[38;5;66;03m#ousiastika to mlflow.start run einai gia na vazeis esu manual ti thes na metriseis\u001B[39;00m\n\u001B[0;32m      4\u001B[0m model_name \u001B[38;5;241m=\u001B[39m \u001B[38;5;124m\"\u001B[39m\u001B[38;5;124mmy_custom_model_jim\u001B[39m\u001B[38;5;124m\"\u001B[39m\n",
      "File \u001B[1;32m~\\Desktop\\TheGliderProject\\Alpha\\fastApiProject\\neoenv\\Lib\\site-packages\\mlflow\\utils\\autologging_utils\\__init__.py:427\u001B[0m, in \u001B[0;36mautologging_integration.<locals>.wrapper.<locals>.autolog\u001B[1;34m(*args, **kwargs)\u001B[0m\n\u001B[0;32m    408\u001B[0m \u001B[38;5;28;01mwith\u001B[39;00m set_mlflow_events_and_warnings_behavior_globally(\n\u001B[0;32m    409\u001B[0m     \u001B[38;5;66;03m# MLflow warnings emitted during autologging setup / enablement are likely\u001B[39;00m\n\u001B[0;32m    410\u001B[0m     \u001B[38;5;66;03m# actionable and relevant to the user, so they should be emitted as normal\u001B[39;00m\n\u001B[1;32m   (...)\u001B[0m\n\u001B[0;32m    423\u001B[0m     disable_warnings\u001B[38;5;241m=\u001B[39mis_silent_mode,\n\u001B[0;32m    424\u001B[0m ):\n\u001B[0;32m    425\u001B[0m     _check_and_log_warning_for_unsupported_package_versions(name)\n\u001B[1;32m--> 427\u001B[0m     \u001B[38;5;28;01mreturn\u001B[39;00m \u001B[43m_autolog\u001B[49m\u001B[43m(\u001B[49m\u001B[38;5;241;43m*\u001B[39;49m\u001B[43margs\u001B[49m\u001B[43m,\u001B[49m\u001B[43m \u001B[49m\u001B[38;5;241;43m*\u001B[39;49m\u001B[38;5;241;43m*\u001B[39;49m\u001B[43mkwargs\u001B[49m\u001B[43m)\u001B[49m\n",
      "File \u001B[1;32m~\\Desktop\\TheGliderProject\\Alpha\\fastApiProject\\neoenv\\Lib\\site-packages\\mlflow\\sklearn\\__init__.py:1258\u001B[0m, in \u001B[0;36mautolog\u001B[1;34m(log_input_examples, log_model_signatures, log_models, log_datasets, disable, exclusive, disable_for_unsupported_versions, silent, max_tuning_runs, log_post_training_metrics, serialization_format, registered_model_name, pos_label, extra_tags)\u001B[0m\n\u001B[0;32m    973\u001B[0m \u001B[38;5;129m@autologging_integration\u001B[39m(FLAVOR_NAME)\n\u001B[0;32m    974\u001B[0m \u001B[38;5;28;01mdef\u001B[39;00m \u001B[38;5;21mautolog\u001B[39m(\n\u001B[0;32m    975\u001B[0m     log_input_examples\u001B[38;5;241m=\u001B[39m\u001B[38;5;28;01mFalse\u001B[39;00m,\n\u001B[1;32m   (...)\u001B[0m\n\u001B[0;32m    988\u001B[0m     extra_tags\u001B[38;5;241m=\u001B[39m\u001B[38;5;28;01mNone\u001B[39;00m,\n\u001B[0;32m    989\u001B[0m ):  \u001B[38;5;66;03m# pylint: disable=unused-argument\u001B[39;00m\n\u001B[0;32m    990\u001B[0m \u001B[38;5;250m    \u001B[39m\u001B[38;5;124;03m\"\"\"\u001B[39;00m\n\u001B[0;32m    991\u001B[0m \u001B[38;5;124;03m    Enables (or disables) and configures autologging for scikit-learn estimators.\u001B[39;00m\n\u001B[0;32m    992\u001B[0m \n\u001B[1;32m   (...)\u001B[0m\n\u001B[0;32m   1256\u001B[0m \u001B[38;5;124;03m    :param extra_tags: A dictionary of extra tags to set on each managed run created by autologging.\u001B[39;00m\n\u001B[0;32m   1257\u001B[0m \u001B[38;5;124;03m    \"\"\"\u001B[39;00m\n\u001B[1;32m-> 1258\u001B[0m     \u001B[43m_autolog\u001B[49m\u001B[43m(\u001B[49m\n\u001B[0;32m   1259\u001B[0m \u001B[43m        \u001B[49m\u001B[43mflavor_name\u001B[49m\u001B[38;5;241;43m=\u001B[39;49m\u001B[43mFLAVOR_NAME\u001B[49m\u001B[43m,\u001B[49m\n\u001B[0;32m   1260\u001B[0m \u001B[43m        \u001B[49m\u001B[43mlog_input_examples\u001B[49m\u001B[38;5;241;43m=\u001B[39;49m\u001B[43mlog_input_examples\u001B[49m\u001B[43m,\u001B[49m\n\u001B[0;32m   1261\u001B[0m \u001B[43m        \u001B[49m\u001B[43mlog_model_signatures\u001B[49m\u001B[38;5;241;43m=\u001B[39;49m\u001B[43mlog_model_signatures\u001B[49m\u001B[43m,\u001B[49m\n\u001B[0;32m   1262\u001B[0m \u001B[43m        \u001B[49m\u001B[43mlog_models\u001B[49m\u001B[38;5;241;43m=\u001B[39;49m\u001B[43mlog_models\u001B[49m\u001B[43m,\u001B[49m\n\u001B[0;32m   1263\u001B[0m \u001B[43m        \u001B[49m\u001B[43mlog_datasets\u001B[49m\u001B[38;5;241;43m=\u001B[39;49m\u001B[43mlog_datasets\u001B[49m\u001B[43m,\u001B[49m\n\u001B[0;32m   1264\u001B[0m \u001B[43m        \u001B[49m\u001B[43mdisable\u001B[49m\u001B[38;5;241;43m=\u001B[39;49m\u001B[43mdisable\u001B[49m\u001B[43m,\u001B[49m\n\u001B[0;32m   1265\u001B[0m \u001B[43m        \u001B[49m\u001B[43mexclusive\u001B[49m\u001B[38;5;241;43m=\u001B[39;49m\u001B[43mexclusive\u001B[49m\u001B[43m,\u001B[49m\n\u001B[0;32m   1266\u001B[0m \u001B[43m        \u001B[49m\u001B[43mdisable_for_unsupported_versions\u001B[49m\u001B[38;5;241;43m=\u001B[39;49m\u001B[43mdisable_for_unsupported_versions\u001B[49m\u001B[43m,\u001B[49m\n\u001B[0;32m   1267\u001B[0m \u001B[43m        \u001B[49m\u001B[43msilent\u001B[49m\u001B[38;5;241;43m=\u001B[39;49m\u001B[43msilent\u001B[49m\u001B[43m,\u001B[49m\n\u001B[0;32m   1268\u001B[0m \u001B[43m        \u001B[49m\u001B[43mmax_tuning_runs\u001B[49m\u001B[38;5;241;43m=\u001B[39;49m\u001B[43mmax_tuning_runs\u001B[49m\u001B[43m,\u001B[49m\n\u001B[0;32m   1269\u001B[0m \u001B[43m        \u001B[49m\u001B[43mlog_post_training_metrics\u001B[49m\u001B[38;5;241;43m=\u001B[39;49m\u001B[43mlog_post_training_metrics\u001B[49m\u001B[43m,\u001B[49m\n\u001B[0;32m   1270\u001B[0m \u001B[43m        \u001B[49m\u001B[43mserialization_format\u001B[49m\u001B[38;5;241;43m=\u001B[39;49m\u001B[43mserialization_format\u001B[49m\u001B[43m,\u001B[49m\n\u001B[0;32m   1271\u001B[0m \u001B[43m        \u001B[49m\u001B[43mpos_label\u001B[49m\u001B[38;5;241;43m=\u001B[39;49m\u001B[43mpos_label\u001B[49m\u001B[43m,\u001B[49m\n\u001B[0;32m   1272\u001B[0m \u001B[43m        \u001B[49m\u001B[43mextra_tags\u001B[49m\u001B[38;5;241;43m=\u001B[39;49m\u001B[43mextra_tags\u001B[49m\u001B[43m,\u001B[49m\n\u001B[0;32m   1273\u001B[0m \u001B[43m    \u001B[49m\u001B[43m)\u001B[49m\n",
      "File \u001B[1;32m~\\Desktop\\TheGliderProject\\Alpha\\fastApiProject\\neoenv\\Lib\\site-packages\\mlflow\\sklearn\\__init__.py:1819\u001B[0m, in \u001B[0;36m_autolog\u001B[1;34m(flavor_name, log_input_examples, log_model_signatures, log_models, log_datasets, disable, exclusive, disable_for_unsupported_versions, silent, max_tuning_runs, log_post_training_metrics, serialization_format, pos_label, extra_tags)\u001B[0m\n\u001B[0;32m   1817\u001B[0m     allow_children_patch \u001B[38;5;241m=\u001B[39m \u001B[38;5;28;01mTrue\u001B[39;00m\n\u001B[0;32m   1818\u001B[0m \u001B[38;5;28;01melse\u001B[39;00m:\n\u001B[1;32m-> 1819\u001B[0m     estimators_to_patch \u001B[38;5;241m=\u001B[39m \u001B[43m_gen_estimators_to_patch\u001B[49m\u001B[43m(\u001B[49m\u001B[43m)\u001B[49m\n\u001B[0;32m   1820\u001B[0m     patched_fit_impl \u001B[38;5;241m=\u001B[39m fit_mlflow\n\u001B[0;32m   1821\u001B[0m     allow_children_patch \u001B[38;5;241m=\u001B[39m \u001B[38;5;28;01mFalse\u001B[39;00m\n",
      "File \u001B[1;32m~\\Desktop\\TheGliderProject\\Alpha\\fastApiProject\\neoenv\\Lib\\site-packages\\mlflow\\sklearn\\__init__.py:98\u001B[0m, in \u001B[0;36m_gen_estimators_to_patch\u001B[1;34m()\u001B[0m\n\u001B[0;32m     92\u001B[0m \u001B[38;5;28;01mdef\u001B[39;00m \u001B[38;5;21m_gen_estimators_to_patch\u001B[39m():\n\u001B[0;32m     93\u001B[0m     \u001B[38;5;28;01mfrom\u001B[39;00m \u001B[38;5;21;01mmlflow\u001B[39;00m\u001B[38;5;21;01m.\u001B[39;00m\u001B[38;5;21;01msklearn\u001B[39;00m\u001B[38;5;21;01m.\u001B[39;00m\u001B[38;5;21;01mutils\u001B[39;00m \u001B[38;5;28;01mimport\u001B[39;00m (\n\u001B[0;32m     94\u001B[0m         _all_estimators,\n\u001B[0;32m     95\u001B[0m         _get_meta_estimators_for_autologging,\n\u001B[0;32m     96\u001B[0m     )\n\u001B[1;32m---> 98\u001B[0m     _, estimators_to_patch \u001B[38;5;241m=\u001B[39m \u001B[38;5;28mzip\u001B[39m(\u001B[38;5;241m*\u001B[39m\u001B[43m_all_estimators\u001B[49m\u001B[43m(\u001B[49m\u001B[43m)\u001B[49m)\n\u001B[0;32m     99\u001B[0m     \u001B[38;5;66;03m# Ensure that relevant meta estimators (e.g. GridSearchCV, Pipeline) are selected\u001B[39;00m\n\u001B[0;32m    100\u001B[0m     \u001B[38;5;66;03m# for patching if they are not already included in the output of `all_estimators()`\u001B[39;00m\n\u001B[0;32m    101\u001B[0m     estimators_to_patch \u001B[38;5;241m=\u001B[39m \u001B[38;5;28mset\u001B[39m(estimators_to_patch)\u001B[38;5;241m.\u001B[39munion(\n\u001B[0;32m    102\u001B[0m         \u001B[38;5;28mset\u001B[39m(_get_meta_estimators_for_autologging())\n\u001B[0;32m    103\u001B[0m     )\n",
      "File \u001B[1;32m~\\Desktop\\TheGliderProject\\Alpha\\fastApiProject\\neoenv\\Lib\\site-packages\\mlflow\\sklearn\\utils.py:858\u001B[0m, in \u001B[0;36m_all_estimators\u001B[1;34m()\u001B[0m\n\u001B[0;32m    855\u001B[0m \u001B[38;5;28;01mtry\u001B[39;00m:\n\u001B[0;32m    856\u001B[0m     \u001B[38;5;28;01mfrom\u001B[39;00m \u001B[38;5;21;01msklearn\u001B[39;00m\u001B[38;5;21;01m.\u001B[39;00m\u001B[38;5;21;01mutils\u001B[39;00m \u001B[38;5;28;01mimport\u001B[39;00m all_estimators\n\u001B[1;32m--> 858\u001B[0m     \u001B[38;5;28;01mreturn\u001B[39;00m \u001B[43mall_estimators\u001B[49m\u001B[43m(\u001B[49m\u001B[43m)\u001B[49m\n\u001B[0;32m    859\u001B[0m \u001B[38;5;28;01mexcept\u001B[39;00m \u001B[38;5;167;01mImportError\u001B[39;00m:\n\u001B[0;32m    860\u001B[0m     \u001B[38;5;28;01mreturn\u001B[39;00m _backported_all_estimators()\n",
      "File \u001B[1;32m~\\Desktop\\TheGliderProject\\Alpha\\fastApiProject\\neoenv\\Lib\\site-packages\\sklearn\\utils\\discovery.py:63\u001B[0m, in \u001B[0;36mall_estimators\u001B[1;34m(type_filter)\u001B[0m\n\u001B[0;32m     60\u001B[0m \u001B[38;5;66;03m# Ignore deprecation warnings triggered at import time and from walking\u001B[39;00m\n\u001B[0;32m     61\u001B[0m \u001B[38;5;66;03m# packages\u001B[39;00m\n\u001B[0;32m     62\u001B[0m \u001B[38;5;28;01mwith\u001B[39;00m ignore_warnings(category\u001B[38;5;241m=\u001B[39m\u001B[38;5;167;01mFutureWarning\u001B[39;00m):\n\u001B[1;32m---> 63\u001B[0m     \u001B[38;5;28;01mfor\u001B[39;00m _, module_name, _ \u001B[38;5;129;01min\u001B[39;00m pkgutil\u001B[38;5;241m.\u001B[39mwalk_packages(path\u001B[38;5;241m=\u001B[39m[root], prefix\u001B[38;5;241m=\u001B[39m\u001B[38;5;124m\"\u001B[39m\u001B[38;5;124msklearn.\u001B[39m\u001B[38;5;124m\"\u001B[39m):\n\u001B[0;32m     64\u001B[0m         module_parts \u001B[38;5;241m=\u001B[39m module_name\u001B[38;5;241m.\u001B[39msplit(\u001B[38;5;124m\"\u001B[39m\u001B[38;5;124m.\u001B[39m\u001B[38;5;124m\"\u001B[39m)\n\u001B[0;32m     65\u001B[0m         \u001B[38;5;28;01mif\u001B[39;00m (\n\u001B[0;32m     66\u001B[0m             \u001B[38;5;28many\u001B[39m(part \u001B[38;5;129;01min\u001B[39;00m _MODULE_TO_IGNORE \u001B[38;5;28;01mfor\u001B[39;00m part \u001B[38;5;129;01min\u001B[39;00m module_parts)\n\u001B[0;32m     67\u001B[0m             \u001B[38;5;129;01mor\u001B[39;00m \u001B[38;5;124m\"\u001B[39m\u001B[38;5;124m._\u001B[39m\u001B[38;5;124m\"\u001B[39m \u001B[38;5;129;01min\u001B[39;00m module_name\n\u001B[0;32m     68\u001B[0m         ):\n",
      "File \u001B[1;32m~\\AppData\\Local\\Programs\\Python\\Python311\\Lib\\pkgutil.py:92\u001B[0m, in \u001B[0;36mwalk_packages\u001B[1;34m(path, prefix, onerror)\u001B[0m\n\u001B[0;32m     90\u001B[0m \u001B[38;5;28;01mif\u001B[39;00m info\u001B[38;5;241m.\u001B[39mispkg:\n\u001B[0;32m     91\u001B[0m     \u001B[38;5;28;01mtry\u001B[39;00m:\n\u001B[1;32m---> 92\u001B[0m         \u001B[38;5;28m__import__\u001B[39m(info\u001B[38;5;241m.\u001B[39mname)\n\u001B[0;32m     93\u001B[0m     \u001B[38;5;28;01mexcept\u001B[39;00m \u001B[38;5;167;01mImportError\u001B[39;00m:\n\u001B[0;32m     94\u001B[0m         \u001B[38;5;28;01mif\u001B[39;00m onerror \u001B[38;5;129;01mis\u001B[39;00m \u001B[38;5;129;01mnot\u001B[39;00m \u001B[38;5;28;01mNone\u001B[39;00m:\n",
      "File \u001B[1;32m~\\Desktop\\TheGliderProject\\Alpha\\fastApiProject\\neoenv\\Lib\\site-packages\\sklearn\\_build_utils\\__init__.py:15\u001B[0m\n\u001B[0;32m     13\u001B[0m \u001B[38;5;28;01mfrom\u001B[39;00m \u001B[38;5;21;01m.\u001B[39;00m\u001B[38;5;21;01m.\u001B[39;00m\u001B[38;5;21;01m_min_dependencies\u001B[39;00m \u001B[38;5;28;01mimport\u001B[39;00m CYTHON_MIN_VERSION\n\u001B[0;32m     14\u001B[0m \u001B[38;5;28;01mfrom\u001B[39;00m \u001B[38;5;21;01m.\u001B[39;00m\u001B[38;5;21;01m.\u001B[39;00m\u001B[38;5;21;01mexternals\u001B[39;00m\u001B[38;5;21;01m.\u001B[39;00m\u001B[38;5;21;01m_packaging\u001B[39;00m\u001B[38;5;21;01m.\u001B[39;00m\u001B[38;5;21;01mversion\u001B[39;00m \u001B[38;5;28;01mimport\u001B[39;00m parse\n\u001B[1;32m---> 15\u001B[0m \u001B[38;5;28;01mfrom\u001B[39;00m \u001B[38;5;21;01m.\u001B[39;00m\u001B[38;5;21;01mopenmp_helpers\u001B[39;00m \u001B[38;5;28;01mimport\u001B[39;00m check_openmp_support\n\u001B[0;32m     16\u001B[0m \u001B[38;5;28;01mfrom\u001B[39;00m \u001B[38;5;21;01m.\u001B[39;00m\u001B[38;5;21;01mpre_build_helpers\u001B[39;00m \u001B[38;5;28;01mimport\u001B[39;00m basic_check_build\n\u001B[0;32m     18\u001B[0m DEFAULT_ROOT \u001B[38;5;241m=\u001B[39m \u001B[38;5;124m\"\u001B[39m\u001B[38;5;124msklearn\u001B[39m\u001B[38;5;124m\"\u001B[39m\n",
      "File \u001B[1;32m~\\Desktop\\TheGliderProject\\Alpha\\fastApiProject\\neoenv\\Lib\\site-packages\\sklearn\\_build_utils\\openmp_helpers.py:12\u001B[0m\n\u001B[0;32m      9\u001B[0m \u001B[38;5;28;01mimport\u001B[39;00m \u001B[38;5;21;01mtextwrap\u001B[39;00m\n\u001B[0;32m     10\u001B[0m \u001B[38;5;28;01mimport\u001B[39;00m \u001B[38;5;21;01mwarnings\u001B[39;00m\n\u001B[1;32m---> 12\u001B[0m \u001B[38;5;28;01mfrom\u001B[39;00m \u001B[38;5;21;01m.\u001B[39;00m\u001B[38;5;21;01mpre_build_helpers\u001B[39;00m \u001B[38;5;28;01mimport\u001B[39;00m compile_test_program\n\u001B[0;32m     15\u001B[0m \u001B[38;5;28;01mdef\u001B[39;00m \u001B[38;5;21mget_openmp_flag\u001B[39m():\n\u001B[0;32m     16\u001B[0m     \u001B[38;5;28;01mif\u001B[39;00m sys\u001B[38;5;241m.\u001B[39mplatform \u001B[38;5;241m==\u001B[39m \u001B[38;5;124m\"\u001B[39m\u001B[38;5;124mwin32\u001B[39m\u001B[38;5;124m\"\u001B[39m:\n",
      "File \u001B[1;32m~\\Desktop\\TheGliderProject\\Alpha\\fastApiProject\\neoenv\\Lib\\site-packages\\sklearn\\_build_utils\\pre_build_helpers.py:10\u001B[0m\n\u001B[0;32m      7\u001B[0m \u001B[38;5;28;01mimport\u001B[39;00m \u001B[38;5;21;01mtempfile\u001B[39;00m\n\u001B[0;32m      8\u001B[0m \u001B[38;5;28;01mimport\u001B[39;00m \u001B[38;5;21;01mtextwrap\u001B[39;00m\n\u001B[1;32m---> 10\u001B[0m \u001B[38;5;28;01mfrom\u001B[39;00m \u001B[38;5;21;01msetuptools\u001B[39;00m\u001B[38;5;21;01m.\u001B[39;00m\u001B[38;5;21;01mcommand\u001B[39;00m\u001B[38;5;21;01m.\u001B[39;00m\u001B[38;5;21;01mbuild_ext\u001B[39;00m \u001B[38;5;28;01mimport\u001B[39;00m customize_compiler, new_compiler\n\u001B[0;32m     13\u001B[0m \u001B[38;5;28;01mdef\u001B[39;00m \u001B[38;5;21mcompile_test_program\u001B[39m(code, extra_preargs\u001B[38;5;241m=\u001B[39m\u001B[38;5;28;01mNone\u001B[39;00m, extra_postargs\u001B[38;5;241m=\u001B[39m\u001B[38;5;28;01mNone\u001B[39;00m):\n\u001B[0;32m     14\u001B[0m \u001B[38;5;250m    \u001B[39m\u001B[38;5;124;03m\"\"\"Check that some C code can be compiled and run\"\"\"\u001B[39;00m\n",
      "File \u001B[1;32m~\\Desktop\\TheGliderProject\\Alpha\\fastApiProject\\neoenv\\Lib\\site-packages\\setuptools\\__init__.py:7\u001B[0m\n\u001B[0;32m      4\u001B[0m \u001B[38;5;28;01mimport\u001B[39;00m \u001B[38;5;21;01mos\u001B[39;00m\n\u001B[0;32m      5\u001B[0m \u001B[38;5;28;01mimport\u001B[39;00m \u001B[38;5;21;01mre\u001B[39;00m\n\u001B[1;32m----> 7\u001B[0m \u001B[38;5;28;01mimport\u001B[39;00m \u001B[38;5;21;01m_distutils_hack\u001B[39;00m\u001B[38;5;21;01m.\u001B[39;00m\u001B[38;5;21;01moverride\u001B[39;00m  \u001B[38;5;66;03m# noqa: F401\u001B[39;00m\n\u001B[0;32m      9\u001B[0m \u001B[38;5;28;01mimport\u001B[39;00m \u001B[38;5;21;01mdistutils\u001B[39;00m\u001B[38;5;21;01m.\u001B[39;00m\u001B[38;5;21;01mcore\u001B[39;00m\n\u001B[0;32m     10\u001B[0m \u001B[38;5;28;01mfrom\u001B[39;00m \u001B[38;5;21;01mdistutils\u001B[39;00m\u001B[38;5;21;01m.\u001B[39;00m\u001B[38;5;21;01merrors\u001B[39;00m \u001B[38;5;28;01mimport\u001B[39;00m DistutilsOptionError\n",
      "File \u001B[1;32m~\\Desktop\\TheGliderProject\\Alpha\\fastApiProject\\neoenv\\Lib\\site-packages\\_distutils_hack\\override.py:1\u001B[0m\n\u001B[1;32m----> 1\u001B[0m \u001B[38;5;28;43m__import__\u001B[39;49m\u001B[43m(\u001B[49m\u001B[38;5;124;43m'\u001B[39;49m\u001B[38;5;124;43m_distutils_hack\u001B[39;49m\u001B[38;5;124;43m'\u001B[39;49m\u001B[43m)\u001B[49m\u001B[38;5;241;43m.\u001B[39;49m\u001B[43mdo_override\u001B[49m\u001B[43m(\u001B[49m\u001B[43m)\u001B[49m\n",
      "File \u001B[1;32m~\\Desktop\\TheGliderProject\\Alpha\\fastApiProject\\neoenv\\Lib\\site-packages\\_distutils_hack\\__init__.py:77\u001B[0m, in \u001B[0;36mdo_override\u001B[1;34m()\u001B[0m\n\u001B[0;32m     75\u001B[0m \u001B[38;5;28;01mif\u001B[39;00m enabled():\n\u001B[0;32m     76\u001B[0m     warn_distutils_present()\n\u001B[1;32m---> 77\u001B[0m     \u001B[43mensure_local_distutils\u001B[49m\u001B[43m(\u001B[49m\u001B[43m)\u001B[49m\n",
      "File \u001B[1;32m~\\Desktop\\TheGliderProject\\Alpha\\fastApiProject\\neoenv\\Lib\\site-packages\\_distutils_hack\\__init__.py:64\u001B[0m, in \u001B[0;36mensure_local_distutils\u001B[1;34m()\u001B[0m\n\u001B[0;32m     62\u001B[0m \u001B[38;5;66;03m# check that submodules load as expected\u001B[39;00m\n\u001B[0;32m     63\u001B[0m core \u001B[38;5;241m=\u001B[39m importlib\u001B[38;5;241m.\u001B[39mimport_module(\u001B[38;5;124m'\u001B[39m\u001B[38;5;124mdistutils.core\u001B[39m\u001B[38;5;124m'\u001B[39m)\n\u001B[1;32m---> 64\u001B[0m \u001B[38;5;28;01massert\u001B[39;00m \u001B[38;5;124m'\u001B[39m\u001B[38;5;124m_distutils\u001B[39m\u001B[38;5;124m'\u001B[39m \u001B[38;5;129;01min\u001B[39;00m core\u001B[38;5;241m.\u001B[39m\u001B[38;5;18m__file__\u001B[39m, core\u001B[38;5;241m.\u001B[39m\u001B[38;5;18m__file__\u001B[39m\n\u001B[0;32m     65\u001B[0m \u001B[38;5;28;01massert\u001B[39;00m \u001B[38;5;124m'\u001B[39m\u001B[38;5;124msetuptools._distutils.log\u001B[39m\u001B[38;5;124m'\u001B[39m \u001B[38;5;129;01mnot\u001B[39;00m \u001B[38;5;129;01min\u001B[39;00m sys\u001B[38;5;241m.\u001B[39mmodules\n",
      "\u001B[1;31mAssertionError\u001B[0m: C:\\Users\\tzim3\\AppData\\Local\\Programs\\Python\\Python311\\Lib\\distutils\\core.py"
     ]
    }
   ],
   "source": [],
   "metadata": {
    "collapsed": false
   }
  },
  {
   "cell_type": "markdown",
   "source": [
    "# MLFLOW PROJECTS\n",
    "# At the core, MLflow Projects are just a convention for organizing and describing your code to let other data scientists (or automated tools) run it. Each project is simply a directory of files, or a Git repository, containing your code. MLflow can run some projects based on a convention for placing files in this directory (for example, a conda.yaml file is treated as a Conda environment), but you can describe your project in more detail by adding a MLproject file, which is a YAML formatted text file. Each project can specify several properties:"
   ],
   "metadata": {
    "collapsed": false
   }
  },
  {
   "cell_type": "code",
   "execution_count": null,
   "outputs": [],
   "source": [],
   "metadata": {
    "collapsed": false
   }
  }
 ],
 "metadata": {
  "kernelspec": {
   "display_name": "Python 3",
   "language": "python",
   "name": "python3"
  },
  "language_info": {
   "codemirror_mode": {
    "name": "ipython",
    "version": 2
   },
   "file_extension": ".py",
   "mimetype": "text/x-python",
   "name": "python",
   "nbconvert_exporter": "python",
   "pygments_lexer": "ipython2",
   "version": "2.7.6"
  }
 },
 "nbformat": 4,
 "nbformat_minor": 0
}
