{
 "cells": [
  {
   "cell_type": "code",
   "execution_count": 34,
   "outputs": [
    {
     "name": "stdout",
     "output_type": "stream",
     "text": [
      "Downloading train.tsv.zip to .\n"
     ]
    },
    {
     "name": "stderr",
     "output_type": "stream",
     "text": [
      "100%|██████████| 1.28M/1.28M [00:00<00:00, 1.51MB/s]\n"
     ]
    },
    {
     "name": "stdout",
     "output_type": "stream",
     "text": [
      "\n",
      "Downloading test.tsv.zip to .\n"
     ]
    },
    {
     "name": "stderr",
     "output_type": "stream",
     "text": [
      "100%|██████████| 494k/494k [00:00<00:00, 713kB/s]"
     ]
    },
    {
     "name": "stdout",
     "output_type": "stream",
     "text": [
      "\n"
     ]
    },
    {
     "name": "stderr",
     "output_type": "stream",
     "text": [
      "\n"
     ]
    }
   ],
   "source": [
    "# must set the kaggle api json file to the path\n",
    "# AND MUST TAKE PART TO THE SPECIFIC COMPETITION\n",
    "from kaggle.api.kaggle_api_extended import KaggleApi\n",
    "import zipfile\n",
    "import os\n",
    "\n",
    "api = KaggleApi()\n",
    "api.authenticate()\n",
    "# api.competition_download_file('sentiment-analysis-on-movie-reviews', f'train.tsv.zip', path='./')\n",
    "\n",
    "for file in ['train.tsv', 'test.tsv']:\n",
    "    api.competition_download_file('sentiment-analysis-on-movie-reviews', f'{file}.zip', path='./')\n",
    "\n",
    "    with zipfile.ZipFile(f'{file}.zip', 'r') as zip_ref:\n",
    "        zip_ref.extractall('./')\n",
    "\n",
    "    os.remove(f'{file}.zip')"
   ],
   "metadata": {
    "collapsed": false
   }
  },
  {
   "cell_type": "code",
   "execution_count": 1,
   "outputs": [
    {
     "data": {
      "text/plain": "   PhraseId  SentenceId                                             Phrase  \\\n0         1           1  A series of escapades demonstrating the adage ...   \n1         2           1  A series of escapades demonstrating the adage ...   \n2         3           1                                           A series   \n3         4           1                                                  A   \n4         5           1                                             series   \n\n   Sentiment  \n0          1  \n1          2  \n2          2  \n3          2  \n4          2  ",
      "text/html": "<div>\n<style scoped>\n    .dataframe tbody tr th:only-of-type {\n        vertical-align: middle;\n    }\n\n    .dataframe tbody tr th {\n        vertical-align: top;\n    }\n\n    .dataframe thead th {\n        text-align: right;\n    }\n</style>\n<table border=\"1\" class=\"dataframe\">\n  <thead>\n    <tr style=\"text-align: right;\">\n      <th></th>\n      <th>PhraseId</th>\n      <th>SentenceId</th>\n      <th>Phrase</th>\n      <th>Sentiment</th>\n    </tr>\n  </thead>\n  <tbody>\n    <tr>\n      <th>0</th>\n      <td>1</td>\n      <td>1</td>\n      <td>A series of escapades demonstrating the adage ...</td>\n      <td>1</td>\n    </tr>\n    <tr>\n      <th>1</th>\n      <td>2</td>\n      <td>1</td>\n      <td>A series of escapades demonstrating the adage ...</td>\n      <td>2</td>\n    </tr>\n    <tr>\n      <th>2</th>\n      <td>3</td>\n      <td>1</td>\n      <td>A series</td>\n      <td>2</td>\n    </tr>\n    <tr>\n      <th>3</th>\n      <td>4</td>\n      <td>1</td>\n      <td>A</td>\n      <td>2</td>\n    </tr>\n    <tr>\n      <th>4</th>\n      <td>5</td>\n      <td>1</td>\n      <td>series</td>\n      <td>2</td>\n    </tr>\n  </tbody>\n</table>\n</div>"
     },
     "execution_count": 1,
     "metadata": {},
     "output_type": "execute_result"
    }
   ],
   "source": [
    "import pandas as pd\n",
    "\n",
    "df = pd.read_csv('train.tsv', sep='\\t')\n",
    "df.head()"
   ],
   "metadata": {
    "collapsed": false
   }
  },
  {
   "cell_type": "code",
   "execution_count": 38,
   "outputs": [
    {
     "data": {
      "text/plain": "<Axes: xlabel='Sentiment'>"
     },
     "execution_count": 38,
     "metadata": {},
     "output_type": "execute_result"
    },
    {
     "data": {
      "text/plain": "<Figure size 640x480 with 1 Axes>",
      "image/png": "[encoded data removed]"
     },
     "metadata": {},
     "output_type": "display_data"
    }
   ],
   "source": [
    "df['Sentiment'].value_counts().plot(kind='bar')\n",
    "# labels: negative, somewhat negative, neutral, somewhat neutral, positive\n",
    "# Let's check the distribution of sentiment classes across our data."
   ],
   "metadata": {
    "collapsed": false
   }
  },
  {
   "cell_type": "code",
   "execution_count": 40,
   "outputs": [
    {
     "data": {
      "text/plain": "(156060, 512)"
     },
     "execution_count": 40,
     "metadata": {},
     "output_type": "execute_result"
    }
   ],
   "source": [
    "# We will be tokenizing this text to create two input tensors; our input IDs, and attention mask.\n",
    "# We will contain our tensors within two numpy arrays, which will be of dimensions len(df) * 512 - the 512 is the sequence length of our tokenized sequences for BERT, and len(df) the number of samples in our dataset.\n",
    "\n",
    "seq_len = 512\n",
    "num_samples = len(df)\n",
    "num_samples, seq_len"
   ],
   "metadata": {
    "collapsed": false
   }
  },
  {
   "cell_type": "code",
   "execution_count": 41,
   "outputs": [],
   "source": [
    "# Now we can begin tokenizing with a BertTokenizer, like so:\n",
    "\n",
    "\n",
    "from transformers import BertTokenizer\n",
    "\n",
    "# initialize tokenizer\n",
    "tokenizer = BertTokenizer.from_pretrained('bert-base-cased')\n",
    "\n",
    "# tokenize - this time returning Numpy tensors\n",
    "tokens = tokenizer(df['Phrase'].tolist(), max_length=seq_len, truncation=True,\n",
    "                   padding='max_length', add_special_tokens=True,\n",
    "                   return_tensors='np')\n",
    "\n",
    "# np= numpy arrays"
   ],
   "metadata": {
    "collapsed": false
   }
  },
  {
   "cell_type": "code",
   "execution_count": 42,
   "outputs": [
    {
     "data": {
      "text/plain": "array([[1, 1, 1, ..., 0, 0, 0],\n       [1, 1, 1, ..., 0, 0, 0],\n       [1, 1, 1, ..., 0, 0, 0],\n       ...,\n       [1, 1, 1, ..., 0, 0, 0],\n       [1, 1, 1, ..., 0, 0, 0],\n       [1, 1, 1, ..., 0, 0, 0]])"
     },
     "execution_count": 42,
     "metadata": {},
     "output_type": "execute_result"
    }
   ],
   "source": [
    "tokens['attention_mask']"
   ],
   "metadata": {
    "collapsed": false
   }
  },
  {
   "cell_type": "code",
   "execution_count": 43,
   "outputs": [
    {
     "data": {
      "text/plain": "array([[  101,   138,  1326, ...,     0,     0,     0],\n       [  101,   138,  1326, ...,     0,     0,     0],\n       [  101,   138,  1326, ...,     0,     0,     0],\n       ...,\n       [  101, 13936, 25265, ...,     0,     0,     0],\n       [  101, 13936, 25265, ...,     0,     0,     0],\n       [  101, 15107,  1103, ...,     0,     0,     0]])"
     },
     "execution_count": 43,
     "metadata": {},
     "output_type": "execute_result"
    }
   ],
   "source": [
    "tokens['input_ids'][:10]"
   ],
   "metadata": {
    "collapsed": false
   }
  },
  {
   "cell_type": "code",
   "execution_count": 44,
   "outputs": [
    {
     "data": {
      "text/plain": "(['A series of escapades demonstrating the adage that what is good for the goose is also good for the gander , some of which occasionally amuses but none of which amounts to much of a story .',\n  'A series of escapades demonstrating the adage that what is good for the goose',\n  'A series',\n  'A',\n  'series',\n  'of escapades demonstrating the adage that what is good for the goose',\n  'of',\n  'escapades demonstrating the adage that what is good for the goose',\n  'escapades',\n  'demonstrating the adage that what is good for the goose',\n  'demonstrating the adage',\n  'demonstrating',\n  'the adage',\n  'the',\n  'adage',\n  'that what is good for the goose',\n  'that',\n  'what is good for the goose',\n  'what',\n  'is good for the goose',\n  'is',\n  'good for the goose',\n  'good',\n  'for the goose',\n  'for',\n  'the goose',\n  'goose',\n  'is also good for the gander , some of which occasionally amuses but none of which amounts to much of a story .',\n  'is also good for the gander , some of which occasionally amuses but none of which amounts to much of a story',\n  'is also',\n  'also',\n  'good for the gander , some of which occasionally amuses but none of which amounts to much of a story',\n  'for the gander , some of which occasionally amuses but none of which amounts to much of a story',\n  'the gander , some of which occasionally amuses but none of which amounts to much of a story',\n  'the gander ,',\n  'the gander',\n  'gander',\n  ',',\n  'some of which occasionally amuses but none of which amounts to much of a story',\n  'some of which',\n  'some',\n  'of which',\n  'which',\n  'occasionally amuses but none of which amounts to much of a story',\n  'occasionally',\n  'amuses but none of which amounts to much of a story',\n  'amuses',\n  'but none of which amounts to much of a story',\n  'but',\n  'none of which amounts to much of a story',\n  'none',\n  'of which amounts to much of a story',\n  'which amounts to much of a story',\n  'amounts to much of a story',\n  'amounts',\n  'to much of a story',\n  'to',\n  'much of a story',\n  'much',\n  'of a story',\n  'a story',\n  'story',\n  '.',\n  'This quiet , introspective and entertaining independent is worth seeking .',\n  'This quiet , introspective and entertaining independent',\n  'This',\n  'quiet , introspective and entertaining independent',\n  'quiet , introspective and entertaining',\n  'quiet',\n  ', introspective and entertaining',\n  'introspective and entertaining',\n  'introspective and',\n  'introspective',\n  'and',\n  'entertaining',\n  'independent',\n  'is worth seeking .',\n  'is worth seeking',\n  'is worth',\n  'worth',\n  'seeking',\n  \"Even fans of Ismail Merchant 's work , I suspect , would have a hard time sitting through this one .\",\n  \"Even fans of Ismail Merchant 's work\",\n  'Even fans',\n  'Even',\n  'fans',\n  \"of Ismail Merchant 's work\",\n  \"Ismail Merchant 's work\",\n  \"Ismail Merchant 's\",\n  'Ismail',\n  \"Merchant 's\",\n  'Merchant',\n  \"'s\",\n  'work',\n  ', I suspect , would have a hard time sitting through this one .',\n  ', I suspect ,',\n  'I suspect ,',\n  'I suspect',\n  'I',\n  'suspect',\n  'would have a hard time sitting through this one .',\n  'would have a hard time sitting through this one',\n  'would',\n  'have a hard time sitting through this one',\n  'have',\n  'a hard time sitting through this one',\n  'a hard time',\n  'hard time',\n  'hard',\n  'time',\n  'sitting through this one',\n  'sitting',\n  'through this one',\n  'through',\n  'this one',\n  'one',\n  'A positively thrilling combination of ethnography and all the intrigue , betrayal , deceit and murder of a Shakespearean tragedy or a juicy soap opera .',\n  'A positively thrilling combination of ethnography and all the intrigue , betrayal , deceit and murder of a Shakespearean tragedy or a juicy soap opera',\n  'A positively thrilling combination of ethnography and all the intrigue , betrayal , deceit and murder',\n  'A positively thrilling combination',\n  'positively thrilling combination',\n  'positively',\n  'thrilling combination',\n  'thrilling',\n  'combination',\n  'of ethnography and all the intrigue , betrayal , deceit and murder',\n  'ethnography and all the intrigue , betrayal , deceit and murder',\n  'ethnography and',\n  'ethnography',\n  'all the intrigue , betrayal , deceit and murder',\n  'all',\n  'the intrigue , betrayal , deceit and murder',\n  'intrigue , betrayal , deceit and murder',\n  'intrigue',\n  ', betrayal , deceit and murder',\n  'betrayal , deceit and murder',\n  'betrayal',\n  ', deceit and murder',\n  'deceit and murder',\n  'deceit and',\n  'deceit',\n  'murder',\n  'of a Shakespearean tragedy or a juicy soap opera',\n  'a Shakespearean tragedy or a juicy soap opera',\n  'a Shakespearean tragedy or',\n  'a Shakespearean tragedy',\n  'Shakespearean tragedy',\n  'Shakespearean',\n  'tragedy',\n  'or',\n  'a juicy soap opera',\n  'juicy soap opera',\n  'juicy',\n  'soap opera',\n  'soap',\n  'opera',\n  'Aggressive self-glorification and a manipulative whitewash .',\n  'Aggressive self-glorification and a manipulative whitewash',\n  'Aggressive',\n  'self-glorification and a manipulative whitewash',\n  'self-glorification and',\n  'self-glorification',\n  'a manipulative whitewash',\n  'manipulative whitewash',\n  'manipulative',\n  'whitewash',\n  'A comedy-drama of nearly epic proportions rooted in a sincere performance by the title character undergoing midlife crisis .',\n  'A comedy-drama of nearly epic proportions',\n  'A comedy-drama',\n  'comedy-drama',\n  'of nearly epic proportions',\n  'nearly epic proportions',\n  'nearly epic',\n  'nearly',\n  'epic',\n  'proportions',\n  'rooted in a sincere performance by the title character undergoing midlife crisis .',\n  'rooted in a sincere performance by the title character undergoing midlife crisis',\n  'rooted in a sincere performance',\n  'rooted',\n  'in a sincere performance',\n  'in',\n  'a sincere performance',\n  'sincere performance',\n  'sincere',\n  'performance',\n  'by the title character undergoing midlife crisis',\n  'by',\n  'the title character undergoing midlife crisis',\n  'the title character',\n  'title character',\n  'title',\n  'character',\n  'undergoing midlife crisis',\n  'undergoing',\n  'midlife crisis',\n  'midlife',\n  'crisis',\n  'Narratively , Trouble Every Day is a plodding mess .',\n  'Narratively',\n  ', Trouble Every Day is a plodding mess .',\n  'Trouble Every Day is a plodding mess .',\n  'Trouble Every Day',\n  'Trouble',\n  'Every Day',\n  'Every',\n  'Day',\n  'is a plodding mess .',\n  'is a plodding mess',\n  'a plodding mess',\n  'plodding mess',\n  'plodding',\n  'mess',\n  \"The Importance of Being Earnest , so thick with wit it plays like a reading from Bartlett 's Familiar Quotations\",\n  'The Importance',\n  'Importance',\n  \"of Being Earnest , so thick with wit it plays like a reading from Bartlett 's Familiar Quotations\",\n  \"Being Earnest , so thick with wit it plays like a reading from Bartlett 's Familiar Quotations\",\n  'Being',\n  \"Earnest , so thick with wit it plays like a reading from Bartlett 's Familiar Quotations\",\n  'Earnest ,',\n  'Earnest',\n  \"so thick with wit it plays like a reading from Bartlett 's Familiar Quotations\",\n  'so',\n  \"thick with wit it plays like a reading from Bartlett 's Familiar Quotations\",\n  'thick',\n  \"with wit it plays like a reading from Bartlett 's Familiar Quotations\",\n  'with',\n  \"wit it plays like a reading from Bartlett 's Familiar Quotations\",\n  'wit',\n  \"it plays like a reading from Bartlett 's Familiar Quotations\",\n  'it',\n  \"plays like a reading from Bartlett 's Familiar Quotations\",\n  'plays',\n  \"like a reading from Bartlett 's Familiar Quotations\",\n  'like',\n  \"a reading from Bartlett 's Familiar Quotations\",\n  'a reading',\n  'reading',\n  \"from Bartlett 's Familiar Quotations\",\n  'from',\n  \"Bartlett 's Familiar Quotations\",\n  \"Bartlett 's\",\n  'Bartlett',\n  'Familiar Quotations',\n  'Familiar',\n  'Quotations',\n  \"But it does n't leave you with much .\",\n  \"it does n't leave you with much .\",\n  \"does n't leave you with much .\",\n  \"does n't leave you with much\",\n  \"does n't\",\n  'does',\n  \"n't\",\n  'leave you with much',\n  'leave you',\n  'leave',\n  'you',\n  'with much',\n  'You could hate it for the same reason .',\n  'could hate it for the same reason .',\n  'could hate it for the same reason',\n  'could',\n  'hate it for the same reason',\n  'hate it',\n  'hate',\n  'for the same reason',\n  'the same reason',\n  'same reason',\n  'same',\n  'reason',\n  \"There 's little to recommend Snow Dogs , unless one considers cliched dialogue and perverse escapism a source of high hilarity .\",\n  'There',\n  \"'s little to recommend Snow Dogs , unless one considers cliched dialogue and perverse escapism a source of high hilarity .\",\n  \"'s little to recommend Snow Dogs , unless one considers cliched dialogue and perverse escapism a source of high hilarity\",\n  \"'s little to recommend Snow Dogs ,\",\n  \"'s little to recommend Snow Dogs\",\n  'little to recommend Snow Dogs',\n  'little',\n  'to recommend Snow Dogs',\n  'recommend Snow Dogs',\n  'recommend',\n  'Snow Dogs',\n  'Snow',\n  'Dogs',\n  'unless one considers cliched dialogue and perverse escapism a source of high hilarity',\n  'unless',\n  'one considers cliched dialogue and perverse escapism a source of high hilarity',\n  'considers cliched dialogue and perverse escapism a source of high hilarity',\n  'considers',\n  'cliched dialogue and perverse escapism a source of high hilarity',\n  'cliched dialogue and perverse escapism',\n  'cliched dialogue and',\n  'cliched dialogue',\n  'cliched',\n  'dialogue',\n  'perverse escapism',\n  'perverse',\n  'escapism',\n  'a source of high hilarity',\n  'a source',\n  'source',\n  'of high hilarity',\n  'high hilarity',\n  'high',\n  'hilarity',\n  \"Kung Pow is Oedekerk 's realization of his childhood dream to be in a martial-arts flick , and proves that sometimes the dreams of youth should remain just that .\",\n  'Kung Pow',\n  'Kung',\n  'Pow',\n  \"is Oedekerk 's realization of his childhood dream to be in a martial-arts flick , and proves that sometimes the dreams of youth should remain just that .\",\n  \"is Oedekerk 's realization of his childhood dream to be in a martial-arts flick , and proves that sometimes the dreams of youth should remain just that\",\n  \"is Oedekerk 's realization of his childhood dream to be in a martial-arts flick , and\",\n  \"is Oedekerk 's realization of his childhood dream to be in a martial-arts flick ,\",\n  \"is Oedekerk 's realization of his childhood dream to be in a martial-arts flick\",\n  \"Oedekerk 's realization of his childhood dream to be in a martial-arts flick\",\n  \"Oedekerk 's realization of his childhood dream\",\n  \"Oedekerk 's realization\",\n  \"Oedekerk 's\",\n  'Oedekerk',\n  'realization',\n  'of his childhood dream',\n  'his childhood dream',\n  'his',\n  'childhood dream',\n  'childhood',\n  'dream',\n  'to be in a martial-arts flick',\n  'be in a martial-arts flick',\n  'be',\n  'in a martial-arts flick',\n  'a martial-arts flick',\n  'martial-arts flick',\n  'martial-arts',\n  'flick',\n  'proves that sometimes the dreams of youth should remain just that',\n  'proves',\n  'that sometimes the dreams of youth should remain just that',\n  'sometimes the dreams of youth should remain just that',\n  'sometimes',\n  'the dreams of youth should remain just that',\n  'the dreams of youth',\n  'the dreams',\n  'dreams',\n  'of youth',\n  'youth',\n  'should remain just that',\n  'should',\n  'remain just that',\n  'remain',\n  'just that',\n  'just',\n  'The performances are an absolute joy .',\n  'The performances',\n  'performances',\n  'are an absolute joy .',\n  'are an absolute joy',\n  'are',\n  'an absolute joy',\n  'an',\n  'absolute joy',\n  'absolute',\n  'joy',\n  'Fresnadillo has something serious to say about the ways in which extravagant chance can distort our perspective and throw us off the path of good sense .',\n  'Fresnadillo',\n  'has something serious to say about the ways in which extravagant chance can distort our perspective and throw us off the path of good sense .',\n  'has something serious to say about the ways in which extravagant chance can distort our perspective and throw us off the path of good sense',\n  'has',\n  'something serious to say about the ways in which extravagant chance can distort our perspective and throw us off the path of good sense',\n  'something',\n  'serious to say about the ways in which extravagant chance can distort our perspective and throw us off the path of good sense',\n  'serious',\n  'to say about the ways in which extravagant chance can distort our perspective and throw us off the path of good sense',\n  'say about the ways in which extravagant chance can distort our perspective and throw us off the path of good sense',\n  'say',\n  'about the ways in which extravagant chance can distort our perspective and throw us off the path of good sense',\n  'about',\n  'the ways in which extravagant chance can distort our perspective and throw us off the path of good sense',\n  'the ways',\n  'ways',\n  'in which extravagant chance can distort our perspective and throw us off the path of good sense',\n  'in which',\n  'extravagant chance can distort our perspective and throw us off the path of good sense',\n  'extravagant chance',\n  'extravagant',\n  'chance',\n  'can distort our perspective and throw us off the path of good sense',\n  'can',\n  'distort our perspective and throw us off the path of good sense',\n  'distort our perspective and',\n  'distort our perspective',\n  'distort',\n  'our perspective',\n  'our',\n  'perspective',\n  'throw us off the path of good sense',\n  'throw us',\n  'throw',\n  'us',\n  'off the path of good sense',\n  'off',\n  'the path of good sense',\n  'the path',\n  'path',\n  'of good sense',\n  'good sense',\n  'sense',\n  'I still like Moonlight Mile , better judgment be damned .',\n  'still like Moonlight Mile , better judgment be damned .',\n  'still',\n  'like Moonlight Mile , better judgment be damned .',\n  'like Moonlight Mile , better judgment be damned',\n  'Moonlight Mile , better judgment be damned',\n  'Moonlight Mile , better judgment',\n  'Moonlight',\n  'Mile , better judgment',\n  'Mile',\n  ', better judgment',\n  'better judgment',\n  'better',\n  'judgment',\n  'be damned',\n  'damned',\n  'A welcome relief from baseball movies that try too hard to be mythic , this one is a sweet and modest and ultimately winning story .',\n  'A welcome relief from baseball movies that try too hard to be mythic',\n  'A welcome relief',\n  'welcome relief',\n  'welcome',\n  'relief',\n  'from baseball movies that try too hard to be mythic',\n  'baseball movies that try too hard to be mythic',\n  'baseball movies',\n  'baseball',\n  'movies',\n  'that try too hard to be mythic',\n  'try too hard to be mythic',\n  'try',\n  'too hard to be mythic',\n  'too',\n  'hard to be mythic',\n  'to be mythic',\n  'be mythic',\n  'mythic',\n  ', this one is a sweet and modest and ultimately winning story .',\n  'this one is a sweet and modest and ultimately winning story .',\n  'is a sweet and modest and ultimately winning story .',\n  'is a sweet and modest and ultimately winning story',\n  'a sweet and modest and ultimately winning story',\n  'a sweet and modest and',\n  'a sweet and modest',\n  'sweet and modest',\n  'sweet and',\n  'sweet',\n  'modest',\n  'ultimately winning story',\n  'ultimately',\n  'winning story',\n  'winning',\n  'a bilingual charmer , just like the woman who inspired it',\n  'a bilingual charmer ,',\n  'a bilingual charmer',\n  'bilingual charmer',\n  'bilingual',\n  'charmer',\n  'just like the woman who inspired it',\n  'like the woman who inspired it',\n  'the woman who inspired it',\n  'the woman',\n  'woman',\n  'who inspired it',\n  'who',\n  'inspired it',\n  'inspired',\n  \"Like a less dizzily gorgeous companion to Mr. Wong 's In the Mood for Love -- very much a Hong Kong movie despite its mainland setting .\",\n  'Like a less dizzily gorgeous companion to Mr.',\n  'a less dizzily gorgeous companion to Mr.',\n  'a less dizzily gorgeous companion',\n  'less dizzily gorgeous companion',\n  'less dizzily gorgeous',\n  'less',\n  'dizzily gorgeous',\n  'dizzily',\n  'gorgeous',\n  'companion',\n  'to Mr.',\n  'Mr.',\n  \"Wong 's In the Mood for Love -- very much a Hong Kong movie despite its mainland setting .\",\n  'Wong',\n  \"'s In the Mood for Love -- very much a Hong Kong movie despite its mainland setting .\",\n  \"'s In the Mood for Love -- very much a Hong Kong movie despite its mainland setting\",\n  \"'s In the Mood for Love -- very much a Hong Kong movie\",\n  'In the Mood for Love -- very much a Hong Kong movie',\n  'the Mood for Love -- very much a Hong Kong movie',\n  'the Mood',\n  'Mood',\n  'for Love -- very much a Hong Kong movie',\n  'Love -- very much a Hong Kong movie',\n  'Love -- very much',\n  'Love --',\n  'Love',\n  '--',\n  'very much',\n  'very',\n  'a Hong Kong movie',\n  'Hong Kong movie',\n  'Hong',\n  'Kong movie',\n  'Kong',\n  'movie',\n  'despite its mainland setting',\n  'despite',\n  'its mainland setting',\n  'its',\n  'mainland setting',\n  'mainland',\n  'setting',\n  'As inept as big-screen remakes of The Avengers and The Wild Wild West .',\n  'As inept as big-screen remakes of The Avengers and The Wild Wild West',\n  'As inept',\n  'As',\n  'inept',\n  'as big-screen remakes of The Avengers and The Wild Wild West',\n  'big-screen remakes of The Avengers and The Wild Wild West',\n  'big-screen remakes',\n  'big-screen',\n  'remakes',\n  'of The Avengers and The Wild Wild West',\n  'The Avengers and The Wild Wild West',\n  'The Avengers and',\n  'The Avengers',\n  'Avengers',\n  'The Wild Wild West',\n  'Wild Wild West',\n  'Wild',\n  'Wild West',\n  'West',\n  \"It 's everything you 'd expect -- but nothing more .\",\n  \"'s everything you 'd expect -- but nothing more .\",\n  \"'s everything you 'd expect -- but nothing more\",\n  \"everything you 'd expect -- but nothing more\",\n  'everything',\n  \"you 'd expect -- but nothing more\",\n  \"'d expect -- but nothing more\",\n  \"'d\",\n  'expect -- but nothing more',\n  'expect -- but nothing',\n  'expect --',\n  'expect',\n  'but nothing',\n  'nothing',\n  'more',\n  'Best indie of the year , so far .',\n  'Best',\n  'indie of the year , so far .',\n  'indie of the year , so far',\n  'indie of the year ,',\n  'indie of the year',\n  'indie',\n  'of the year',\n  'the year',\n  'year',\n  'so far',\n  'far',\n  \"Hatfield and Hicks make the oddest of couples , and in this sense the movie becomes a study of the gambles of the publishing world , offering a case study that exists apart from all the movie 's political ramifications .\",\n  \"Hatfield and Hicks make the oddest of couples , and in this sense the movie becomes a study of the gambles of the publishing world , offering a case study that exists apart from all the movie 's political ramifications\",\n  'Hatfield and Hicks make the oddest of couples , and',\n  'Hatfield and Hicks make the oddest of couples ,',\n  'Hatfield and Hicks make the oddest of couples',\n  'Hatfield and Hicks',\n  'Hatfield and',\n  'Hatfield',\n  'Hicks',\n  'make the oddest of couples',\n  'make',\n  'the oddest of couples',\n  'the oddest',\n  'oddest',\n  'of couples',\n  'couples',\n  \"in this sense the movie becomes a study of the gambles of the publishing world , offering a case study that exists apart from all the movie 's political ramifications\",\n  'in this sense',\n  'this sense',\n  \"the movie becomes a study of the gambles of the publishing world , offering a case study that exists apart from all the movie 's political ramifications\",\n  'the movie',\n  \"becomes a study of the gambles of the publishing world , offering a case study that exists apart from all the movie 's political ramifications\",\n  'becomes a study of the gambles of the publishing world ,',\n  'becomes a study of the gambles of the publishing world',\n  'becomes',\n  'a study of the gambles of the publishing world',\n  'a study',\n  'study',\n  'of the gambles of the publishing world',\n  'the gambles of the publishing world',\n  'the gambles',\n  'gambles',\n  'of the publishing world',\n  'the publishing world',\n  'publishing world',\n  'publishing',\n  'world',\n  \"offering a case study that exists apart from all the movie 's political ramifications\",\n  'offering',\n  \"a case study that exists apart from all the movie 's political ramifications\",\n  'a case study',\n  'case study',\n  'case',\n  \"that exists apart from all the movie 's political ramifications\",\n  \"exists apart from all the movie 's political ramifications\",\n  'exists apart',\n  'exists',\n  'apart',\n  \"from all the movie 's political ramifications\",\n  \"all the movie 's political ramifications\",\n  \"the movie 's political ramifications\",\n  \"the movie 's\",\n  \"movie 's\",\n  'political ramifications',\n  'political',\n  'ramifications',\n  \"It 's like going to a house party and watching the host defend himself against a frothing ex-girlfriend .\",\n  \"'s like going to a house party and watching the host defend himself against a frothing ex-girlfriend .\",\n  \"'s like going to a house party and watching the host defend himself against a frothing ex-girlfriend\",\n  'like going to a house party and watching the host defend himself against a frothing ex-girlfriend',\n  'going to a house party and watching the host defend himself against a frothing ex-girlfriend',\n  'going to a house party and',\n  'going to a house party',\n  'going',\n  'to a house party',\n  'a house party',\n  'house party',\n  'house',\n  'party',\n  'watching the host defend himself against a frothing ex-girlfriend',\n  'watching',\n  'the host defend himself against a frothing ex-girlfriend',\n  'the host',\n  'host',\n  'defend himself against a frothing ex-girlfriend',\n  'defend himself',\n  'defend',\n  'himself',\n  'against a frothing ex-girlfriend',\n  'against',\n  'a frothing ex-girlfriend',\n  'frothing ex-girlfriend',\n  'frothing',\n  'ex-girlfriend',\n  \"That the Chuck Norris `` grenade gag '' occurs about 7 times during Windtalkers is a good indication of how serious-minded the film is .\",\n  \"That the Chuck Norris `` grenade gag ''\",\n  \"the Chuck Norris `` grenade gag ''\",\n  \"Chuck Norris `` grenade gag ''\",\n  'Chuck',\n  \"Norris `` grenade gag ''\",\n  'Norris',\n  \"`` grenade gag ''\",\n  '``',\n  \"grenade gag ''\",\n  'grenade',\n  \"gag ''\",\n  'gag',\n  \"''\",\n  'occurs about 7 times during Windtalkers is a good indication of how serious-minded the film is .',\n  'occurs about 7 times during Windtalkers is a good indication of how serious-minded the film is',\n  'occurs',\n  'about 7 times during Windtalkers is a good indication of how serious-minded the film is',\n  'about 7 times during Windtalkers',\n  'about 7 times',\n  '7 times',\n  '7',\n  'times',\n  'during Windtalkers',\n  'during',\n  'Windtalkers',\n  'is a good indication of how serious-minded the film is',\n  'a good indication of how serious-minded the film is',\n  'a good indication',\n  'good indication',\n  'indication',\n  'of how serious-minded the film is',\n  'how serious-minded the film is',\n  'how',\n  'serious-minded the film is',\n  'serious-minded the film',\n  'serious-minded',\n  'the film',\n  'film',\n  'The plot is romantic comedy boilerplate from start to finish .',\n  'The plot',\n  'plot',\n  'is romantic comedy boilerplate from start to finish .',\n  'is romantic comedy boilerplate from start to finish',\n  'romantic comedy boilerplate from start to finish',\n  'romantic comedy boilerplate from start',\n  'romantic comedy boilerplate',\n  'romantic',\n  'comedy boilerplate',\n  'comedy',\n  'boilerplate',\n  'from start',\n  'start',\n  'to finish',\n  'finish',\n  'It arrives with an impeccable pedigree , mongrel pep , and almost indecipherable plot complications .',\n  'arrives with an impeccable pedigree , mongrel pep , and almost indecipherable plot complications .',\n  'arrives with an impeccable pedigree , mongrel pep , and almost indecipherable plot complications',\n  'arrives',\n  'with an impeccable pedigree , mongrel pep , and almost indecipherable plot complications',\n  'an impeccable pedigree , mongrel pep , and almost indecipherable plot complications',\n  'an impeccable pedigree , mongrel pep , and almost',\n  'an impeccable pedigree , mongrel pep , and',\n  'an impeccable pedigree , mongrel pep ,',\n  'an impeccable pedigree , mongrel pep',\n  'impeccable pedigree , mongrel pep',\n  'impeccable',\n  'pedigree , mongrel pep',\n  'pedigree',\n  ', mongrel pep',\n  'mongrel pep',\n  'mongrel',\n  'pep',\n  'almost',\n  'indecipherable plot complications',\n  'indecipherable',\n  'plot complications',\n  'complications',\n  'A film that clearly means to preach exclusively to the converted .',\n  'A film that clearly means to',\n  'A film',\n  'that clearly means to',\n  'clearly means to',\n  'clearly',\n  'means to',\n  'means',\n  'preach exclusively to the converted .',\n  'preach exclusively to the converted',\n  'preach exclusively',\n  'preach',\n  'exclusively',\n  'to the converted',\n  'the converted',\n  'converted',\n  \"While The Importance of Being Earnest offers opportunities for occasional smiles and chuckles , it does n't give us a reason to be in the theater beyond Wilde 's wit and the actors ' performances .\",\n  'While The Importance of Being Earnest offers opportunities for occasional smiles and chuckles',\n  'While',\n  'The Importance of Being Earnest offers opportunities for occasional smiles and chuckles',\n  'The Importance of Being Earnest',\n  'of Being Earnest',\n  'Being Earnest',\n  'offers opportunities for occasional smiles and chuckles',\n  'offers opportunities for occasional smiles and',\n  'offers opportunities for occasional smiles',\n  'offers',\n  'opportunities for occasional smiles',\n  'opportunities',\n  'for occasional smiles',\n  'occasional smiles',\n  'occasional',\n  'smiles',\n  'chuckles',\n  \", it does n't give us a reason to be in the theater beyond Wilde 's wit and the actors ' performances .\",\n  \"it does n't give us a reason to be in the theater beyond Wilde 's wit and the actors ' performances .\",\n  \"does n't give us a reason to be in the theater beyond Wilde 's wit and the actors ' performances .\",\n  \"does n't give us a reason to be in the theater beyond Wilde 's wit and the actors ' performances\",\n  \"give us a reason to be in the theater beyond Wilde 's wit and the actors ' performances\",\n  'give us',\n  'give',\n  \"a reason to be in the theater beyond Wilde 's wit and the actors ' performances\",\n  \"reason to be in the theater beyond Wilde 's wit and the actors ' performances\",\n  \"to be in the theater beyond Wilde 's wit and the actors ' performances\",\n  \"be in the theater beyond Wilde 's wit and the actors ' performances\",\n  'be in the theater',\n  'in the theater',\n  'the theater',\n  'theater',\n  \"beyond Wilde 's wit and the actors ' performances\",\n  'beyond',\n  \"Wilde 's wit and the actors ' performances\",\n  \"Wilde 's wit and\",\n  \"Wilde 's wit\",\n  \"Wilde 's\",\n  'Wilde',\n  \"the actors ' performances\",\n  \"the actors '\",\n  \"actors '\",\n  'actors',\n  \"'\",\n  \"The latest vapid actor 's exercise to appropriate the structure of Arthur Schnitzler 's Reigen .\",\n  'The latest',\n  'latest',\n  \"vapid actor 's exercise to appropriate the structure of Arthur Schnitzler 's Reigen .\",\n  \"vapid actor 's exercise to appropriate the structure of Arthur Schnitzler 's Reigen\",\n  \"vapid actor 's exercise\",\n  'vapid',\n  \"actor 's exercise\",\n  \"actor 's\",\n  'actor',\n  'exercise',\n  \"to appropriate the structure of Arthur Schnitzler 's Reigen\",\n  \"appropriate the structure of Arthur Schnitzler 's Reigen\",\n  'appropriate the structure',\n  'appropriate',\n  'the structure',\n  'structure',\n  \"of Arthur Schnitzler 's Reigen\",\n  \"Arthur Schnitzler 's Reigen\",\n  \"Arthur Schnitzler 's\",\n  'Arthur',\n  \"Schnitzler 's\",\n  'Schnitzler',\n  'Reigen',\n  \"More vaudeville show than well-constructed narrative , but on those terms it 's inoffensive and actually rather sweet .\",\n  \"More vaudeville show than well-constructed narrative , but on those terms it 's inoffensive and actually rather sweet\",\n  'More vaudeville show than well-constructed narrative , but',\n  'More vaudeville show than well-constructed narrative ,',\n  'More vaudeville show than well-constructed narrative',\n  'More vaudeville',\n  'vaudeville',\n  'show than well-constructed narrative',\n  'show',\n  'than well-constructed narrative',\n  'than',\n  'well-constructed narrative',\n  'well-constructed',\n  'narrative',\n  \"on those terms it 's inoffensive and actually rather sweet\",\n  'on those terms',\n  'on',\n  'those terms',\n  'those',\n  'terms',\n  \"it 's inoffensive and actually rather sweet\",\n  \"'s inoffensive and actually rather sweet\",\n  'inoffensive and actually rather sweet',\n  'inoffensive and actually',\n  'inoffensive and',\n  'inoffensive',\n  'actually',\n  'rather sweet',\n  'rather',\n  'Nothing more than a run-of-the-mill action flick .',\n  'more than a run-of-the-mill action flick .',\n  'more than a run-of-the-mill action',\n  'than a run-of-the-mill action',\n  'a run-of-the-mill action',\n  'run-of-the-mill action',\n  'run-of-the-mill',\n  'action',\n  'flick .',\n  'Hampered -- no , paralyzed -- by a self-indulgent script ... that aims for poetry and ends up sounding like satire .',\n  'Hampered -- no , paralyzed -- by a self-indulgent script ... that aims for poetry and ends up sounding like satire',\n  'Hampered -- no , paralyzed -- by a self-indulgent script ...',\n  'Hampered -- no , paralyzed -- by a self-indulgent script',\n  'Hampered -- no , paralyzed --',\n  'Hampered',\n  '-- no , paralyzed --',\n  'no , paralyzed --',\n  'no , paralyzed',\n  'no',\n  ', paralyzed',\n  'paralyzed',\n  'by a self-indulgent script',\n  'a self-indulgent script',\n  'self-indulgent script',\n  'self-indulgent',\n  'script',\n  '...',\n  'that aims for poetry and ends up sounding like satire',\n  'aims for poetry and ends up sounding like satire',\n  'aims for poetry and',\n  'aims for poetry',\n  'aims',\n  'for poetry',\n  'poetry',\n  'ends up sounding like satire',\n  'ends up',\n  'ends',\n  'up',\n  'sounding like satire',\n  'sounding',\n  'like satire',\n  'satire',\n  'Ice Age is the first computer-generated feature cartoon to feel like other movies , and that makes for some glacial pacing early on .',\n  'Ice Age is the first computer-generated feature cartoon to feel like other movies , and that makes for some glacial pacing early on',\n  'Ice Age is the first computer-generated feature cartoon to feel like other movies , and',\n  'Ice Age is the first computer-generated feature cartoon to feel like other movies ,',\n  'Ice Age is the first computer-generated feature cartoon to feel like other movies',\n  'Ice Age',\n  'Ice',\n  'Age',\n  'is the first computer-generated feature cartoon to feel like other movies',\n  'the first computer-generated feature cartoon to feel like other movies',\n  'the first computer-generated feature cartoon',\n  'first computer-generated feature cartoon',\n  'first',\n  'computer-generated feature cartoon',\n  'computer-generated',\n  'feature cartoon',\n  'feature',\n  'cartoon',\n  'to feel like other movies',\n  'feel like other movies',\n  'feel',\n  'like other movies',\n  'other movies',\n  'other',\n  'that makes for some glacial pacing early on',\n  'makes for some glacial pacing early on',\n  'makes for some glacial pacing',\n  'makes',\n  'for some glacial pacing',\n  'some glacial pacing',\n  'glacial pacing',\n  'glacial',\n  'pacing',\n  'early on',\n  'early',\n  \"There 's very little sense to what 's going on here , but the makers serve up the cliches with considerable dash .\",\n  \"There 's very little sense to what 's going on here , but the makers serve up the cliches with considerable dash\",\n  \"There 's very little sense to what 's going on here , but\",\n  \"There 's very little sense to what 's going on here ,\",\n  \"There 's very little sense to what 's going on here\",\n  \"'s very little sense to what 's going on here\",\n  \"very little sense to what 's going on here\",\n  'very little sense',\n  'very little',\n  \"to what 's going on here\",\n  \"what 's going on here\",\n  \"'s going on here\",\n  'going on here',\n  'going on',\n  'here',\n  'the makers serve up the cliches with considerable dash',\n  'the makers',\n  'makers',\n  'serve up the cliches with considerable dash',\n  'serve up',\n  'serve',\n  'the cliches with considerable dash',\n  'the cliches',\n  'cliches',\n  'with considerable dash',\n  'considerable dash',\n  'considerable',\n  'dash',\n  'Cattaneo should have followed the runaway success of his first film , The Full Monty , with something different .',\n  'Cattaneo',\n  'should have followed the runaway success of his first film , The Full Monty , with something different .',\n  'should have followed the runaway success of his first film , The Full Monty , with something different',\n  'have followed the runaway success of his first film , The Full Monty , with something different',\n  'followed the runaway success of his first film , The Full Monty , with something different',\n  'followed the runaway success of his first film , The Full Monty ,',\n  'followed',\n  'the runaway success of his first film , The Full Monty ,',\n  'the runaway success',\n  'runaway success',\n  'runaway',\n  'success',\n  'of his first film , The Full Monty ,',\n  'his first film , The Full Monty ,',\n  'his first film , The Full Monty',\n  'his first film ,',\n  'his first film',\n  'first film',\n  'The Full Monty',\n  'Full Monty',\n  'Full',\n  'Monty',\n  'with something different',\n  'something different',\n  'different',\n  \"They 're the unnamed , easily substitutable forces that serve as whatever terror the heroes of horror movies try to avoid .\",\n  'They',\n  \"'re the unnamed , easily substitutable forces that serve as whatever terror the heroes of horror movies try to avoid .\",\n  \"'re the unnamed , easily substitutable forces that serve as whatever terror the heroes of horror movies try to avoid\",\n  \"'re\",\n  'the unnamed , easily substitutable forces that serve as whatever terror the heroes of horror movies try to avoid',\n  'the unnamed , easily substitutable forces',\n  'unnamed , easily substitutable forces',\n  'unnamed , easily substitutable',\n  'unnamed',\n  ', easily substitutable',\n  'easily substitutable',\n  'easily',\n  'substitutable',\n  'forces',\n  'that serve as whatever terror the heroes of horror movies try to avoid',\n  'serve as whatever terror the heroes of horror movies try to avoid',\n  'as whatever terror the heroes of horror movies try to avoid',\n  'whatever terror the heroes of horror movies try to avoid',\n  'whatever',\n  'terror the heroes of horror movies try to avoid',\n  'terror',\n  'the heroes of horror movies try to avoid',\n  'the heroes of horror movies',\n  'the heroes',\n  'heroes',\n  'of horror movies',\n  'horror movies',\n  'horror',\n  'try to avoid',\n  ...],)"
     },
     "execution_count": 44,
     "metadata": {},
     "output_type": "execute_result"
    }
   ],
   "source": [
    "df['Phrase'].tolist(),"
   ],
   "metadata": {
    "collapsed": false
   }
  },
  {
   "cell_type": "code",
   "execution_count": 45,
   "outputs": [],
   "source": [
    "with open('movie-xids.npy', 'wb') as f:\n",
    "    np.save(f, tokens['input_ids'])\n",
    "with open('movie-xmask.npy', 'wb') as f:\n",
    "    np.save(f, tokens['attention_mask'])"
   ],
   "metadata": {
    "collapsed": false
   }
  },
  {
   "cell_type": "code",
   "execution_count": 46,
   "outputs": [],
   "source": [
    "\n",
    "del tokens"
   ],
   "metadata": {
    "collapsed": false
   }
  },
  {
   "cell_type": "code",
   "execution_count": 47,
   "outputs": [],
   "source": [
    "# first extract sentiment column\n",
    "arr = df['Sentiment'].values"
   ],
   "metadata": {
    "collapsed": false
   }
  },
  {
   "cell_type": "code",
   "execution_count": 48,
   "outputs": [
    {
     "data": {
      "text/plain": "array([1, 2, 2, ..., 3, 2, 2], dtype=int64)"
     },
     "execution_count": 48,
     "metadata": {},
     "output_type": "execute_result"
    }
   ],
   "source": [
    "arr"
   ],
   "metadata": {
    "collapsed": false
   }
  },
  {
   "cell_type": "code",
   "execution_count": 49,
   "outputs": [
    {
     "data": {
      "text/plain": "(156060, 5)"
     },
     "execution_count": 49,
     "metadata": {},
     "output_type": "execute_result"
    }
   ],
   "source": [
    "# one hot encoding\n",
    "labels = np.zeros((num_samples, arr.max()+1))\n",
    "labels.shape"
   ],
   "metadata": {
    "collapsed": false
   }
  },
  {
   "cell_type": "code",
   "execution_count": 50,
   "outputs": [
    {
     "data": {
      "text/plain": "array([[0., 1., 0., 0., 0.],\n       [0., 0., 1., 0., 0.],\n       [0., 0., 1., 0., 0.],\n       ...,\n       [0., 0., 0., 1., 0.],\n       [0., 0., 1., 0., 0.],\n       [0., 0., 1., 0., 0.]])"
     },
     "execution_count": 50,
     "metadata": {},
     "output_type": "execute_result"
    }
   ],
   "source": [
    "# one hot encoding\n",
    "labels[np.arange(num_samples), arr] = 1\n",
    "\n",
    "labels"
   ],
   "metadata": {
    "collapsed": false
   }
  },
  {
   "cell_type": "code",
   "execution_count": 51,
   "outputs": [],
   "source": [
    "with open('movie-labels.npy', 'wb') as f:\n",
    "    np.save(f, labels)"
   ],
   "metadata": {
    "collapsed": false
   }
  },
  {
   "cell_type": "code",
   "execution_count": 1,
   "outputs": [],
   "source": [
    "# Load all the dataset and labels from the files\n",
    "import torch\n",
    "import numpy as np\n",
    "\n",
    "with open('movie-xids.npy', 'rb') as f:\n",
    "    Xids = np.load(f, allow_pickle=True)\n",
    "with open('movie-xmask.npy', 'rb') as f:\n",
    "    Xmask = np.load(f, allow_pickle=True)\n",
    "with open('movie-labels.npy', 'rb') as f:\n",
    "    labels = np.load(f, allow_pickle=True)"
   ],
   "metadata": {
    "collapsed": false
   }
  },
  {
   "cell_type": "code",
   "execution_count": 2,
   "outputs": [
    {
     "data": {
      "text/plain": "<TakeDataset element_spec=(TensorSpec(shape=(512,), dtype=tf.int32, name=None), TensorSpec(shape=(512,), dtype=tf.int32, name=None), TensorSpec(shape=(5,), dtype=tf.float64, name=None))>"
     },
     "execution_count": 2,
     "metadata": {},
     "output_type": "execute_result"
    }
   ],
   "source": [
    "import tensorflow as tf\n",
    "# insert data as a tuple\n",
    "dataset = tf.data.Dataset.from_tensor_slices((Xids, Xmask, labels))\n",
    "\n",
    "dataset.take(1)"
   ],
   "metadata": {
    "collapsed": false
   }
  },
  {
   "cell_type": "code",
   "execution_count": 3,
   "outputs": [
    {
     "data": {
      "text/plain": "<TakeDataset element_spec=({'input_ids': TensorSpec(shape=(512,), dtype=tf.int32, name=None), 'attention_mask': TensorSpec(shape=(512,), dtype=tf.int32, name=None)}, TensorSpec(shape=(5,), dtype=tf.float64, name=None))>"
     },
     "execution_count": 3,
     "metadata": {},
     "output_type": "execute_result"
    }
   ],
   "source": [
    "def map_func(input_ids, masks, labels):\n",
    "    # we convert our three-item tuple into a two-item tuple where the input item is a dictionary\n",
    "    return {'input_ids': input_ids, 'attention_mask': masks}, labels\n",
    "\n",
    "# then we use the dataset map method to apply this transformation\n",
    "dataset = dataset.map(map_func)\n",
    "\n",
    "dataset.take(1)"
   ],
   "metadata": {
    "collapsed": false
   }
  },
  {
   "cell_type": "code",
   "execution_count": 4,
   "outputs": [
    {
     "data": {
      "text/plain": "<TakeDataset element_spec=({'input_ids': TensorSpec(shape=(16, 512), dtype=tf.int32, name=None), 'attention_mask': TensorSpec(shape=(16, 512), dtype=tf.int32, name=None)}, TensorSpec(shape=(16, 5), dtype=tf.float64, name=None))>"
     },
     "execution_count": 4,
     "metadata": {},
     "output_type": "execute_result"
    }
   ],
   "source": [
    "batch_size = 16\n",
    "\n",
    "dataset = dataset.shuffle(10000).batch(batch_size, drop_remainder=True)\n",
    "\n",
    "dataset.take(1)"
   ],
   "metadata": {
    "collapsed": false
   }
  },
  {
   "cell_type": "code",
   "execution_count": 5,
   "outputs": [
    {
     "data": {
      "text/plain": "8778"
     },
     "execution_count": 5,
     "metadata": {},
     "output_type": "execute_result"
    }
   ],
   "source": [
    "split = 0.9\n",
    "# we need to calculate how many batches must be taken to create 90% training set\n",
    "size = int((Xids.shape[0] / batch_size) * split)\n",
    "\n",
    "size"
   ],
   "metadata": {
    "collapsed": false
   }
  },
  {
   "cell_type": "code",
   "execution_count": 7,
   "outputs": [
    {
     "ename": "NameError",
     "evalue": "name 'dataset' is not defined",
     "output_type": "error",
     "traceback": [
      "\u001B[1;31m---------------------------------------------------------------------------\u001B[0m",
      "\u001B[1;31mNameError\u001B[0m                                 Traceback (most recent call last)",
      "Cell \u001B[1;32mIn[7], line 1\u001B[0m\n\u001B[1;32m----> 1\u001B[0m train_ds \u001B[38;5;241m=\u001B[39m \u001B[43mdataset\u001B[49m\u001B[38;5;241m.\u001B[39mtake(size)\n\u001B[0;32m      2\u001B[0m val_ds \u001B[38;5;241m=\u001B[39m dataset\u001B[38;5;241m.\u001B[39mskip(size)\n\u001B[0;32m      4\u001B[0m \u001B[38;5;66;03m# free up memory\u001B[39;00m\n",
      "\u001B[1;31mNameError\u001B[0m: name 'dataset' is not defined"
     ]
    }
   ],
   "source": [
    "train_ds = dataset.take(size)\n",
    "val_ds = dataset.skip(size)\n",
    "\n",
    "# free up memory\n",
    "del dataset"
   ],
   "metadata": {
    "collapsed": false
   }
  },
  {
   "cell_type": "code",
   "execution_count": 8,
   "outputs": [
    {
     "name": "stdout",
     "output_type": "stream",
     "text": [
      "WARNING:tensorflow:From C:\\Users\\tzim3\\AppData\\Local\\Temp\\ipykernel_2504\\2648545781.py:1: save (from tensorflow.python.data.experimental.ops.io) is deprecated and will be removed in a future version.\n",
      "Instructions for updating:\n",
      "Use `tf.data.Dataset.save(...)` instead.\n"
     ]
    }
   ],
   "source": [
    "tf.data.experimental.save(train_ds, 'train')\n",
    "tf.data.experimental.save(val_ds, 'val')"
   ],
   "metadata": {
    "collapsed": false
   }
  },
  {
   "cell_type": "code",
   "execution_count": 59,
   "outputs": [
    {
     "data": {
      "text/plain": "({'input_ids': TensorSpec(shape=(16, 512), dtype=tf.int32, name=None),\n  'attention_mask': TensorSpec(shape=(16, 512), dtype=tf.int32, name=None)},\n TensorSpec(shape=(16, 5), dtype=tf.float64, name=None))"
     },
     "execution_count": 59,
     "metadata": {},
     "output_type": "execute_result"
    }
   ],
   "source": [
    "train_ds.element_spec"
   ],
   "metadata": {
    "collapsed": false
   }
  },
  {
   "cell_type": "code",
   "execution_count": 9,
   "outputs": [
    {
     "data": {
      "text/plain": "True"
     },
     "execution_count": 9,
     "metadata": {},
     "output_type": "execute_result"
    }
   ],
   "source": [
    "val_ds.element_spec == train_ds.element_spec"
   ],
   "metadata": {
    "collapsed": false
   }
  },
  {
   "cell_type": "code",
   "execution_count": 10,
   "outputs": [
    {
     "name": "stdout",
     "output_type": "stream",
     "text": [
      "WARNING:tensorflow:From C:\\Users\\tzim3\\AppData\\Local\\Temp\\ipykernel_2504\\2617767161.py:1: load (from tensorflow.python.data.experimental.ops.io) is deprecated and will be removed in a future version.\n",
      "Instructions for updating:\n",
      "Use `tf.data.Dataset.load(...)` instead.\n"
     ]
    }
   ],
   "source": [
    "ds = tf.data.experimental.load('train', element_spec=train_ds.element_spec)"
   ],
   "metadata": {
    "collapsed": false
   }
  },
  {
   "cell_type": "code",
   "execution_count": 17,
   "outputs": [
    {
     "name": "stderr",
     "output_type": "stream",
     "text": [
      "Some weights of the PyTorch model were not used when initializing the TF 2.0 model TFBertModel: ['cls.predictions.transform.dense.bias', 'cls.predictions.transform.LayerNorm.bias', 'cls.seq_relationship.weight', 'cls.predictions.bias', 'cls.predictions.transform.LayerNorm.weight', 'cls.seq_relationship.bias', 'cls.predictions.transform.dense.weight']\n",
      "- This IS expected if you are initializing TFBertModel from a PyTorch model trained on another task or with another architecture (e.g. initializing a TFBertForSequenceClassification model from a BertForPreTraining model).\n",
      "- This IS NOT expected if you are initializing TFBertModel from a PyTorch model that you expect to be exactly identical (e.g. initializing a TFBertForSequenceClassification model from a BertForSequenceClassification model).\n",
      "All the weights of TFBertModel were initialized from the PyTorch model.\n",
      "If your task is similar to the task the model of the checkpoint was trained on, you can already use TFBertModel for predictions without further training.\n"
     ]
    },
    {
     "name": "stdout",
     "output_type": "stream",
     "text": [
      "Model: \"tf_bert_model_1\"\n",
      "_________________________________________________________________\n",
      " Layer (type)                Output Shape              Param #   \n",
      "=================================================================\n",
      " bert (TFBertMainLayer)      multiple                  108310272 \n",
      "                                                                 \n",
      "=================================================================\n",
      "Total params: 108,310,272\n",
      "Trainable params: 108,310,272\n",
      "Non-trainable params: 0\n",
      "_________________________________________________________________\n"
     ]
    }
   ],
   "source": [
    "\n",
    "from transformers import TFAutoModel\n",
    "\n",
    "bert = TFAutoModel.from_pretrained('bert-base-cased')\n",
    "# we can view the model using the summary method\n",
    "bert.summary()"
   ],
   "metadata": {
    "collapsed": false
   }
  },
  {
   "cell_type": "code",
   "execution_count": 18,
   "outputs": [],
   "source": [
    "import tensorflow as tf\n",
    "\n",
    "# two input layers, we ensure layer name variables match to dictionary keys in TF dataset\n",
    "input_ids = tf.keras.layers.Input(shape=(512,), name='input_ids', dtype='int32')\n",
    "mask = tf.keras.layers.Input(shape=(512,), name='attention_mask', dtype='int32')\n",
    "\n",
    "# we access the transformer model within our bert object using the bert attribute (eg bert.bert instead of bert)\n",
    "embeddings = bert.bert(input_ids, attention_mask=mask)[1]  # access final activations (alread max-pooled) [1]\n",
    "# convert bert embeddings into 5 output classes\n",
    "x = tf.keras.layers.Dense(1024, activation='relu')(embeddings)\n",
    "y = tf.keras.layers.Dense(5, activation='softmax', name='outputs')(x)"
   ],
   "metadata": {
    "collapsed": false
   }
  },
  {
   "cell_type": "code",
   "execution_count": 21,
   "outputs": [
    {
     "name": "stdout",
     "output_type": "stream",
     "text": [
      "Model: \"model_2\"\n",
      "__________________________________________________________________________________________________\n",
      " Layer (type)                   Output Shape         Param #     Connected to                     \n",
      "==================================================================================================\n",
      " input_ids (InputLayer)         [(None, 512)]        0           []                               \n",
      "                                                                                                  \n",
      " attention_mask (InputLayer)    [(None, 512)]        0           []                               \n",
      "                                                                                                  \n",
      " bert (TFBertMainLayer)         TFBaseModelOutputWi  108310272   ['input_ids[0][0]',              \n",
      "                                thPoolingAndCrossAt               'attention_mask[0][0]']         \n",
      "                                tentions(last_hidde                                               \n",
      "                                n_state=(None, 512,                                               \n",
      "                                 768),                                                            \n",
      "                                 pooler_output=(Non                                               \n",
      "                                e, 768),                                                          \n",
      "                                 past_key_values=No                                               \n",
      "                                ne, hidden_states=N                                               \n",
      "                                one, attentions=Non                                               \n",
      "                                e, cross_attentions                                               \n",
      "                                =None)                                                            \n",
      "                                                                                                  \n",
      " dense_1 (Dense)                (None, 1024)         787456      ['bert[0][1]']                   \n",
      "                                                                                                  \n",
      " outputs (Dense)                (None, 5)            5125        ['dense_1[0][0]']                \n",
      "                                                                                                  \n",
      "==================================================================================================\n",
      "Total params: 109,102,853\n",
      "Trainable params: 792,581\n",
      "Non-trainable params: 108,310,272\n",
      "__________________________________________________________________________________________________\n"
     ]
    }
   ],
   "source": [
    "# initialize model\n",
    "model = tf.keras.Model(inputs=[input_ids, mask], outputs=y)\n",
    "\n",
    "# (optional) freeze bert layer\n",
    "model.layers[2].trainable = False\n",
    "\n",
    "# print out model summary\n",
    "model.summary()"
   ],
   "metadata": {
    "collapsed": false
   }
  },
  {
   "cell_type": "code",
   "execution_count": 23,
   "outputs": [],
   "source": [
    "optimizer = tf.keras.optimizers.Adam(lr=1e-5, decay=1e-6)\n",
    "loss = tf.keras.losses.CategoricalCrossentropy()\n",
    "acc = tf.keras.metrics.CategoricalAccuracy('accuracy')\n",
    "\n",
    "model.compile(optimizer=optimizer, loss=loss, metrics=[acc])"
   ],
   "metadata": {
    "collapsed": false
   }
  },
  {
   "cell_type": "code",
   "execution_count": 24,
   "outputs": [
    {
     "data": {
      "text/plain": "<TakeDataset element_spec=({'input_ids': TensorSpec(shape=(16, 512), dtype=tf.float64, name=None), 'attention_mask': TensorSpec(shape=(16, 512), dtype=tf.float64, name=None)}, TensorSpec(shape=(16, 5), dtype=tf.float64, name=None))>"
     },
     "execution_count": 24,
     "metadata": {},
     "output_type": "execute_result"
    }
   ],
   "source": [
    "element_spec = ({'input_ids': tf.TensorSpec(shape=(16, 512), dtype=tf.float64, name=None),\n",
    "                 'attention_mask': tf.TensorSpec(shape=(16, 512), dtype=tf.float64, name=None)},\n",
    "                tf.TensorSpec(shape=(16, 5), dtype=tf.float64, name=None))\n",
    "\n",
    "# load the training and validation sets\n",
    "train_ds = tf.data.experimental.load('train', element_spec=element_spec)\n",
    "val_ds = tf.data.experimental.load('val', element_spec=element_spec)\n",
    "\n",
    "# view the input format\n",
    "train_ds.take(1)"
   ],
   "metadata": {
    "collapsed": false
   }
  },
  {
   "cell_type": "code",
   "execution_count": 25,
   "outputs": [
    {
     "name": "stdout",
     "output_type": "stream",
     "text": [
      "Epoch 1/3\n"
     ]
    },
    {
     "ename": "ResourceExhaustedError",
     "evalue": "Graph execution error:\n\nDetected at node 'model_2/bert/encoder/layer_._9/attention/self/dropout_65/dropout/random_uniform/RandomUniform' defined at (most recent call last):\n    File \"C:\\Users\\tzim3\\anaconda3\\envs\\Alpha\\lib\\runpy.py\", line 196, in _run_module_as_main\n      return _run_code(code, main_globals, None,\n    File \"C:\\Users\\tzim3\\anaconda3\\envs\\Alpha\\lib\\runpy.py\", line 86, in _run_code\n      exec(code, run_globals)\n    File \"C:\\Users\\tzim3\\anaconda3\\envs\\Alpha\\lib\\site-packages\\ipykernel_launcher.py\", line 17, in <module>\n      app.launch_new_instance()\n    File \"C:\\Users\\tzim3\\anaconda3\\envs\\Alpha\\lib\\site-packages\\traitlets\\config\\application.py\", line 992, in launch_instance\n      app.start()\n    File \"C:\\Users\\tzim3\\anaconda3\\envs\\Alpha\\lib\\site-packages\\ipykernel\\kernelapp.py\", line 736, in start\n      self.io_loop.start()\n    File \"C:\\Users\\tzim3\\anaconda3\\envs\\Alpha\\lib\\site-packages\\tornado\\platform\\asyncio.py\", line 195, in start\n      self.asyncio_loop.run_forever()\n    File \"C:\\Users\\tzim3\\anaconda3\\envs\\Alpha\\lib\\asyncio\\base_events.py\", line 603, in run_forever\n      self._run_once()\n    File \"C:\\Users\\tzim3\\anaconda3\\envs\\Alpha\\lib\\asyncio\\base_events.py\", line 1909, in _run_once\n      handle._run()\n    File \"C:\\Users\\tzim3\\anaconda3\\envs\\Alpha\\lib\\asyncio\\events.py\", line 80, in _run\n      self._context.run(self._callback, *self._args)\n    File \"C:\\Users\\tzim3\\anaconda3\\envs\\Alpha\\lib\\site-packages\\ipykernel\\kernelbase.py\", line 516, in dispatch_queue\n      await self.process_one()\n    File \"C:\\Users\\tzim3\\anaconda3\\envs\\Alpha\\lib\\site-packages\\ipykernel\\kernelbase.py\", line 505, in process_one\n      await dispatch(*args)\n    File \"C:\\Users\\tzim3\\anaconda3\\envs\\Alpha\\lib\\site-packages\\ipykernel\\kernelbase.py\", line 412, in dispatch_shell\n      await result\n    File \"C:\\Users\\tzim3\\anaconda3\\envs\\Alpha\\lib\\site-packages\\ipykernel\\kernelbase.py\", line 740, in execute_request\n      reply_content = await reply_content\n    File \"C:\\Users\\tzim3\\anaconda3\\envs\\Alpha\\lib\\site-packages\\ipykernel\\ipkernel.py\", line 422, in do_execute\n      res = shell.run_cell(\n    File \"C:\\Users\\tzim3\\anaconda3\\envs\\Alpha\\lib\\site-packages\\ipykernel\\zmqshell.py\", line 546, in run_cell\n      return super().run_cell(*args, **kwargs)\n    File \"C:\\Users\\tzim3\\anaconda3\\envs\\Alpha\\lib\\site-packages\\IPython\\core\\interactiveshell.py\", line 3009, in run_cell\n      result = self._run_cell(\n    File \"C:\\Users\\tzim3\\anaconda3\\envs\\Alpha\\lib\\site-packages\\IPython\\core\\interactiveshell.py\", line 3064, in _run_cell\n      result = runner(coro)\n    File \"C:\\Users\\tzim3\\anaconda3\\envs\\Alpha\\lib\\site-packages\\IPython\\core\\async_helpers.py\", line 129, in _pseudo_sync_runner\n      coro.send(None)\n    File \"C:\\Users\\tzim3\\anaconda3\\envs\\Alpha\\lib\\site-packages\\IPython\\core\\interactiveshell.py\", line 3269, in run_cell_async\n      has_raised = await self.run_ast_nodes(code_ast.body, cell_name,\n    File \"C:\\Users\\tzim3\\anaconda3\\envs\\Alpha\\lib\\site-packages\\IPython\\core\\interactiveshell.py\", line 3448, in run_ast_nodes\n      if await self.run_code(code, result, async_=asy):\n    File \"C:\\Users\\tzim3\\anaconda3\\envs\\Alpha\\lib\\site-packages\\IPython\\core\\interactiveshell.py\", line 3508, in run_code\n      exec(code_obj, self.user_global_ns, self.user_ns)\n    File \"C:\\Users\\tzim3\\AppData\\Local\\Temp\\ipykernel_2504\\1377320828.py\", line 1, in <module>\n      history = model.fit(\n    File \"C:\\Users\\tzim3\\anaconda3\\envs\\Alpha\\lib\\site-packages\\keras\\utils\\traceback_utils.py\", line 65, in error_handler\n      return fn(*args, **kwargs)\n    File \"C:\\Users\\tzim3\\anaconda3\\envs\\Alpha\\lib\\site-packages\\keras\\engine\\training.py\", line 1564, in fit\n      tmp_logs = self.train_function(iterator)\n    File \"C:\\Users\\tzim3\\anaconda3\\envs\\Alpha\\lib\\site-packages\\keras\\engine\\training.py\", line 1160, in train_function\n      return step_function(self, iterator)\n    File \"C:\\Users\\tzim3\\anaconda3\\envs\\Alpha\\lib\\site-packages\\keras\\engine\\training.py\", line 1146, in step_function\n      outputs = model.distribute_strategy.run(run_step, args=(data,))\n    File \"C:\\Users\\tzim3\\anaconda3\\envs\\Alpha\\lib\\site-packages\\keras\\engine\\training.py\", line 1135, in run_step\n      outputs = model.train_step(data)\n    File \"C:\\Users\\tzim3\\anaconda3\\envs\\Alpha\\lib\\site-packages\\keras\\engine\\training.py\", line 993, in train_step\n      y_pred = self(x, training=True)\n    File \"C:\\Users\\tzim3\\anaconda3\\envs\\Alpha\\lib\\site-packages\\keras\\utils\\traceback_utils.py\", line 65, in error_handler\n      return fn(*args, **kwargs)\n    File \"C:\\Users\\tzim3\\anaconda3\\envs\\Alpha\\lib\\site-packages\\keras\\engine\\training.py\", line 557, in __call__\n      return super().__call__(*args, **kwargs)\n    File \"C:\\Users\\tzim3\\anaconda3\\envs\\Alpha\\lib\\site-packages\\keras\\utils\\traceback_utils.py\", line 65, in error_handler\n      return fn(*args, **kwargs)\n    File \"C:\\Users\\tzim3\\anaconda3\\envs\\Alpha\\lib\\site-packages\\keras\\engine\\base_layer.py\", line 1097, in __call__\n      outputs = call_fn(inputs, *args, **kwargs)\n    File \"C:\\Users\\tzim3\\anaconda3\\envs\\Alpha\\lib\\site-packages\\keras\\utils\\traceback_utils.py\", line 96, in error_handler\n      return fn(*args, **kwargs)\n    File \"C:\\Users\\tzim3\\anaconda3\\envs\\Alpha\\lib\\site-packages\\keras\\engine\\functional.py\", line 510, in call\n      return self._run_internal_graph(inputs, training=training, mask=mask)\n    File \"C:\\Users\\tzim3\\anaconda3\\envs\\Alpha\\lib\\site-packages\\keras\\engine\\functional.py\", line 667, in _run_internal_graph\n      outputs = node.layer(*args, **kwargs)\n    File \"C:\\Users\\tzim3\\anaconda3\\envs\\Alpha\\lib\\site-packages\\keras\\utils\\traceback_utils.py\", line 65, in error_handler\n      return fn(*args, **kwargs)\n    File \"C:\\Users\\tzim3\\anaconda3\\envs\\Alpha\\lib\\site-packages\\keras\\engine\\base_layer.py\", line 1097, in __call__\n      outputs = call_fn(inputs, *args, **kwargs)\n    File \"C:\\Users\\tzim3\\anaconda3\\envs\\Alpha\\lib\\site-packages\\keras\\utils\\traceback_utils.py\", line 96, in error_handler\n      return fn(*args, **kwargs)\n    File \"C:\\Users\\tzim3\\anaconda3\\envs\\Alpha\\lib\\site-packages\\transformers\\modeling_tf_utils.py\", line 753, in run_call_with_unpacked_inputs\n      mismatched_keys.update(mismatched_keys_set)\n    File \"C:\\Users\\tzim3\\anaconda3\\envs\\Alpha\\lib\\site-packages\\transformers\\models\\bert\\modeling_tf_bert.py\", line 862, in call\n      encoder_outputs = self.encoder(\n    File \"C:\\Users\\tzim3\\anaconda3\\envs\\Alpha\\lib\\site-packages\\keras\\utils\\traceback_utils.py\", line 65, in error_handler\n      return fn(*args, **kwargs)\n    File \"C:\\Users\\tzim3\\anaconda3\\envs\\Alpha\\lib\\site-packages\\keras\\engine\\base_layer.py\", line 1097, in __call__\n      outputs = call_fn(inputs, *args, **kwargs)\n    File \"C:\\Users\\tzim3\\anaconda3\\envs\\Alpha\\lib\\site-packages\\keras\\utils\\traceback_utils.py\", line 96, in error_handler\n      return fn(*args, **kwargs)\n    File \"C:\\Users\\tzim3\\anaconda3\\envs\\Alpha\\lib\\site-packages\\transformers\\models\\bert\\modeling_tf_bert.py\", line 548, in call\n      for i, layer_module in enumerate(self.layer):\n    File \"C:\\Users\\tzim3\\anaconda3\\envs\\Alpha\\lib\\site-packages\\transformers\\models\\bert\\modeling_tf_bert.py\", line 554, in call\n      layer_outputs = layer_module(\n    File \"C:\\Users\\tzim3\\anaconda3\\envs\\Alpha\\lib\\site-packages\\keras\\utils\\traceback_utils.py\", line 65, in error_handler\n      return fn(*args, **kwargs)\n    File \"C:\\Users\\tzim3\\anaconda3\\envs\\Alpha\\lib\\site-packages\\keras\\engine\\base_layer.py\", line 1097, in __call__\n      outputs = call_fn(inputs, *args, **kwargs)\n    File \"C:\\Users\\tzim3\\anaconda3\\envs\\Alpha\\lib\\site-packages\\keras\\utils\\traceback_utils.py\", line 96, in error_handler\n      return fn(*args, **kwargs)\n    File \"C:\\Users\\tzim3\\anaconda3\\envs\\Alpha\\lib\\site-packages\\transformers\\models\\bert\\modeling_tf_bert.py\", line 464, in call\n      self_attention_outputs = self.attention(\n    File \"C:\\Users\\tzim3\\anaconda3\\envs\\Alpha\\lib\\site-packages\\keras\\utils\\traceback_utils.py\", line 65, in error_handler\n      return fn(*args, **kwargs)\n    File \"C:\\Users\\tzim3\\anaconda3\\envs\\Alpha\\lib\\site-packages\\keras\\engine\\base_layer.py\", line 1097, in __call__\n      outputs = call_fn(inputs, *args, **kwargs)\n    File \"C:\\Users\\tzim3\\anaconda3\\envs\\Alpha\\lib\\site-packages\\keras\\utils\\traceback_utils.py\", line 96, in error_handler\n      return fn(*args, **kwargs)\n    File \"C:\\Users\\tzim3\\anaconda3\\envs\\Alpha\\lib\\site-packages\\transformers\\models\\bert\\modeling_tf_bert.py\", line 380, in call\n      self_outputs = self.self_attention(\n    File \"C:\\Users\\tzim3\\anaconda3\\envs\\Alpha\\lib\\site-packages\\keras\\utils\\traceback_utils.py\", line 65, in error_handler\n      return fn(*args, **kwargs)\n    File \"C:\\Users\\tzim3\\anaconda3\\envs\\Alpha\\lib\\site-packages\\keras\\engine\\base_layer.py\", line 1097, in __call__\n      outputs = call_fn(inputs, *args, **kwargs)\n    File \"C:\\Users\\tzim3\\anaconda3\\envs\\Alpha\\lib\\site-packages\\keras\\utils\\traceback_utils.py\", line 96, in error_handler\n      return fn(*args, **kwargs)\n    File \"C:\\Users\\tzim3\\anaconda3\\envs\\Alpha\\lib\\site-packages\\transformers\\models\\bert\\modeling_tf_bert.py\", line 323, in call\n      attention_probs = self.dropout(inputs=attention_probs, training=training)\n    File \"C:\\Users\\tzim3\\anaconda3\\envs\\Alpha\\lib\\site-packages\\keras\\utils\\traceback_utils.py\", line 65, in error_handler\n      return fn(*args, **kwargs)\n    File \"C:\\Users\\tzim3\\anaconda3\\envs\\Alpha\\lib\\site-packages\\keras\\engine\\base_layer.py\", line 1097, in __call__\n      outputs = call_fn(inputs, *args, **kwargs)\n    File \"C:\\Users\\tzim3\\anaconda3\\envs\\Alpha\\lib\\site-packages\\keras\\utils\\traceback_utils.py\", line 96, in error_handler\n      return fn(*args, **kwargs)\n    File \"C:\\Users\\tzim3\\anaconda3\\envs\\Alpha\\lib\\site-packages\\keras\\layers\\regularization\\dropout.py\", line 116, in call\n      output = control_flow_util.smart_cond(\n    File \"C:\\Users\\tzim3\\anaconda3\\envs\\Alpha\\lib\\site-packages\\keras\\utils\\control_flow_util.py\", line 108, in smart_cond\n      return tf.__internal__.smart_cond.smart_cond(\n    File \"C:\\Users\\tzim3\\anaconda3\\envs\\Alpha\\lib\\site-packages\\keras\\layers\\regularization\\dropout.py\", line 112, in dropped_inputs\n      return self._random_generator.dropout(\n    File \"C:\\Users\\tzim3\\anaconda3\\envs\\Alpha\\lib\\site-packages\\keras\\backend.py\", line 2162, in dropout\n      return tf.nn.dropout(\nNode: 'model_2/bert/encoder/layer_._9/attention/self/dropout_65/dropout/random_uniform/RandomUniform'\nOOM when allocating tensor with shape[16,12,512,512] and type float on /job:localhost/replica:0/task:0/device:CPU:0 by allocator mklcpu\n\t [[{{node model_2/bert/encoder/layer_._9/attention/self/dropout_65/dropout/random_uniform/RandomUniform}}]]\nHint: If you want to see a list of allocated tensors when OOM happens, add report_tensor_allocations_upon_oom to RunOptions for current allocation info. This isn't available when running in Eager mode.\n [Op:__inference_train_function_36609]",
     "output_type": "error",
     "traceback": [
      "\u001B[1;31m---------------------------------------------------------------------------\u001B[0m",
      "\u001B[1;31mResourceExhaustedError\u001B[0m                    Traceback (most recent call last)",
      "Cell \u001B[1;32mIn[25], line 1\u001B[0m\n\u001B[1;32m----> 1\u001B[0m history \u001B[38;5;241m=\u001B[39m \u001B[43mmodel\u001B[49m\u001B[38;5;241;43m.\u001B[39;49m\u001B[43mfit\u001B[49m\u001B[43m(\u001B[49m\n\u001B[0;32m      2\u001B[0m \u001B[43m    \u001B[49m\u001B[43mtrain_ds\u001B[49m\u001B[43m,\u001B[49m\n\u001B[0;32m      3\u001B[0m \u001B[43m    \u001B[49m\u001B[43mvalidation_data\u001B[49m\u001B[38;5;241;43m=\u001B[39;49m\u001B[43mval_ds\u001B[49m\u001B[43m,\u001B[49m\n\u001B[0;32m      4\u001B[0m \u001B[43m    \u001B[49m\u001B[43mepochs\u001B[49m\u001B[38;5;241;43m=\u001B[39;49m\u001B[38;5;241;43m3\u001B[39;49m\n\u001B[0;32m      5\u001B[0m \u001B[43m)\u001B[49m\n",
      "File \u001B[1;32m~\\anaconda3\\envs\\Alpha\\lib\\site-packages\\keras\\utils\\traceback_utils.py:70\u001B[0m, in \u001B[0;36mfilter_traceback.<locals>.error_handler\u001B[1;34m(*args, **kwargs)\u001B[0m\n\u001B[0;32m     67\u001B[0m     filtered_tb \u001B[38;5;241m=\u001B[39m _process_traceback_frames(e\u001B[38;5;241m.\u001B[39m__traceback__)\n\u001B[0;32m     68\u001B[0m     \u001B[38;5;66;03m# To get the full stack trace, call:\u001B[39;00m\n\u001B[0;32m     69\u001B[0m     \u001B[38;5;66;03m# `tf.debugging.disable_traceback_filtering()`\u001B[39;00m\n\u001B[1;32m---> 70\u001B[0m     \u001B[38;5;28;01mraise\u001B[39;00m e\u001B[38;5;241m.\u001B[39mwith_traceback(filtered_tb) \u001B[38;5;28;01mfrom\u001B[39;00m \u001B[38;5;28;01mNone\u001B[39;00m\n\u001B[0;32m     71\u001B[0m \u001B[38;5;28;01mfinally\u001B[39;00m:\n\u001B[0;32m     72\u001B[0m     \u001B[38;5;28;01mdel\u001B[39;00m filtered_tb\n",
      "File \u001B[1;32m~\\anaconda3\\envs\\Alpha\\lib\\site-packages\\tensorflow\\python\\eager\\execute.py:54\u001B[0m, in \u001B[0;36mquick_execute\u001B[1;34m(op_name, num_outputs, inputs, attrs, ctx, name)\u001B[0m\n\u001B[0;32m     52\u001B[0m \u001B[38;5;28;01mtry\u001B[39;00m:\n\u001B[0;32m     53\u001B[0m   ctx\u001B[38;5;241m.\u001B[39mensure_initialized()\n\u001B[1;32m---> 54\u001B[0m   tensors \u001B[38;5;241m=\u001B[39m pywrap_tfe\u001B[38;5;241m.\u001B[39mTFE_Py_Execute(ctx\u001B[38;5;241m.\u001B[39m_handle, device_name, op_name,\n\u001B[0;32m     55\u001B[0m                                       inputs, attrs, num_outputs)\n\u001B[0;32m     56\u001B[0m \u001B[38;5;28;01mexcept\u001B[39;00m core\u001B[38;5;241m.\u001B[39m_NotOkStatusException \u001B[38;5;28;01mas\u001B[39;00m e:\n\u001B[0;32m     57\u001B[0m   \u001B[38;5;28;01mif\u001B[39;00m name \u001B[38;5;129;01mis\u001B[39;00m \u001B[38;5;129;01mnot\u001B[39;00m \u001B[38;5;28;01mNone\u001B[39;00m:\n",
      "\u001B[1;31mResourceExhaustedError\u001B[0m: Graph execution error:\n\nDetected at node 'model_2/bert/encoder/layer_._9/attention/self/dropout_65/dropout/random_uniform/RandomUniform' defined at (most recent call last):\n    File \"C:\\Users\\tzim3\\anaconda3\\envs\\Alpha\\lib\\runpy.py\", line 196, in _run_module_as_main\n      return _run_code(code, main_globals, None,\n    File \"C:\\Users\\tzim3\\anaconda3\\envs\\Alpha\\lib\\runpy.py\", line 86, in _run_code\n      exec(code, run_globals)\n    File \"C:\\Users\\tzim3\\anaconda3\\envs\\Alpha\\lib\\site-packages\\ipykernel_launcher.py\", line 17, in <module>\n      app.launch_new_instance()\n    File \"C:\\Users\\tzim3\\anaconda3\\envs\\Alpha\\lib\\site-packages\\traitlets\\config\\application.py\", line 992, in launch_instance\n      app.start()\n    File \"C:\\Users\\tzim3\\anaconda3\\envs\\Alpha\\lib\\site-packages\\ipykernel\\kernelapp.py\", line 736, in start\n      self.io_loop.start()\n    File \"C:\\Users\\tzim3\\anaconda3\\envs\\Alpha\\lib\\site-packages\\tornado\\platform\\asyncio.py\", line 195, in start\n      self.asyncio_loop.run_forever()\n    File \"C:\\Users\\tzim3\\anaconda3\\envs\\Alpha\\lib\\asyncio\\base_events.py\", line 603, in run_forever\n      self._run_once()\n    File \"C:\\Users\\tzim3\\anaconda3\\envs\\Alpha\\lib\\asyncio\\base_events.py\", line 1909, in _run_once\n      handle._run()\n    File \"C:\\Users\\tzim3\\anaconda3\\envs\\Alpha\\lib\\asyncio\\events.py\", line 80, in _run\n      self._context.run(self._callback, *self._args)\n    File \"C:\\Users\\tzim3\\anaconda3\\envs\\Alpha\\lib\\site-packages\\ipykernel\\kernelbase.py\", line 516, in dispatch_queue\n      await self.process_one()\n    File \"C:\\Users\\tzim3\\anaconda3\\envs\\Alpha\\lib\\site-packages\\ipykernel\\kernelbase.py\", line 505, in process_one\n      await dispatch(*args)\n    File \"C:\\Users\\tzim3\\anaconda3\\envs\\Alpha\\lib\\site-packages\\ipykernel\\kernelbase.py\", line 412, in dispatch_shell\n      await result\n    File \"C:\\Users\\tzim3\\anaconda3\\envs\\Alpha\\lib\\site-packages\\ipykernel\\kernelbase.py\", line 740, in execute_request\n      reply_content = await reply_content\n    File \"C:\\Users\\tzim3\\anaconda3\\envs\\Alpha\\lib\\site-packages\\ipykernel\\ipkernel.py\", line 422, in do_execute\n      res = shell.run_cell(\n    File \"C:\\Users\\tzim3\\anaconda3\\envs\\Alpha\\lib\\site-packages\\ipykernel\\zmqshell.py\", line 546, in run_cell\n      return super().run_cell(*args, **kwargs)\n    File \"C:\\Users\\tzim3\\anaconda3\\envs\\Alpha\\lib\\site-packages\\IPython\\core\\interactiveshell.py\", line 3009, in run_cell\n      result = self._run_cell(\n    File \"C:\\Users\\tzim3\\anaconda3\\envs\\Alpha\\lib\\site-packages\\IPython\\core\\interactiveshell.py\", line 3064, in _run_cell\n      result = runner(coro)\n    File \"C:\\Users\\tzim3\\anaconda3\\envs\\Alpha\\lib\\site-packages\\IPython\\core\\async_helpers.py\", line 129, in _pseudo_sync_runner\n      coro.send(None)\n    File \"C:\\Users\\tzim3\\anaconda3\\envs\\Alpha\\lib\\site-packages\\IPython\\core\\interactiveshell.py\", line 3269, in run_cell_async\n      has_raised = await self.run_ast_nodes(code_ast.body, cell_name,\n    File \"C:\\Users\\tzim3\\anaconda3\\envs\\Alpha\\lib\\site-packages\\IPython\\core\\interactiveshell.py\", line 3448, in run_ast_nodes\n      if await self.run_code(code, result, async_=asy):\n    File \"C:\\Users\\tzim3\\anaconda3\\envs\\Alpha\\lib\\site-packages\\IPython\\core\\interactiveshell.py\", line 3508, in run_code\n      exec(code_obj, self.user_global_ns, self.user_ns)\n    File \"C:\\Users\\tzim3\\AppData\\Local\\Temp\\ipykernel_2504\\1377320828.py\", line 1, in <module>\n      history = model.fit(\n    File \"C:\\Users\\tzim3\\anaconda3\\envs\\Alpha\\lib\\site-packages\\keras\\utils\\traceback_utils.py\", line 65, in error_handler\n      return fn(*args, **kwargs)\n    File \"C:\\Users\\tzim3\\anaconda3\\envs\\Alpha\\lib\\site-packages\\keras\\engine\\training.py\", line 1564, in fit\n      tmp_logs = self.train_function(iterator)\n    File \"C:\\Users\\tzim3\\anaconda3\\envs\\Alpha\\lib\\site-packages\\keras\\engine\\training.py\", line 1160, in train_function\n      return step_function(self, iterator)\n    File \"C:\\Users\\tzim3\\anaconda3\\envs\\Alpha\\lib\\site-packages\\keras\\engine\\training.py\", line 1146, in step_function\n      outputs = model.distribute_strategy.run(run_step, args=(data,))\n    File \"C:\\Users\\tzim3\\anaconda3\\envs\\Alpha\\lib\\site-packages\\keras\\engine\\training.py\", line 1135, in run_step\n      outputs = model.train_step(data)\n    File \"C:\\Users\\tzim3\\anaconda3\\envs\\Alpha\\lib\\site-packages\\keras\\engine\\training.py\", line 993, in train_step\n      y_pred = self(x, training=True)\n    File \"C:\\Users\\tzim3\\anaconda3\\envs\\Alpha\\lib\\site-packages\\keras\\utils\\traceback_utils.py\", line 65, in error_handler\n      return fn(*args, **kwargs)\n    File \"C:\\Users\\tzim3\\anaconda3\\envs\\Alpha\\lib\\site-packages\\keras\\engine\\training.py\", line 557, in __call__\n      return super().__call__(*args, **kwargs)\n    File \"C:\\Users\\tzim3\\anaconda3\\envs\\Alpha\\lib\\site-packages\\keras\\utils\\traceback_utils.py\", line 65, in error_handler\n      return fn(*args, **kwargs)\n    File \"C:\\Users\\tzim3\\anaconda3\\envs\\Alpha\\lib\\site-packages\\keras\\engine\\base_layer.py\", line 1097, in __call__\n      outputs = call_fn(inputs, *args, **kwargs)\n    File \"C:\\Users\\tzim3\\anaconda3\\envs\\Alpha\\lib\\site-packages\\keras\\utils\\traceback_utils.py\", line 96, in error_handler\n      return fn(*args, **kwargs)\n    File \"C:\\Users\\tzim3\\anaconda3\\envs\\Alpha\\lib\\site-packages\\keras\\engine\\functional.py\", line 510, in call\n      return self._run_internal_graph(inputs, training=training, mask=mask)\n    File \"C:\\Users\\tzim3\\anaconda3\\envs\\Alpha\\lib\\site-packages\\keras\\engine\\functional.py\", line 667, in _run_internal_graph\n      outputs = node.layer(*args, **kwargs)\n    File \"C:\\Users\\tzim3\\anaconda3\\envs\\Alpha\\lib\\site-packages\\keras\\utils\\traceback_utils.py\", line 65, in error_handler\n      return fn(*args, **kwargs)\n    File \"C:\\Users\\tzim3\\anaconda3\\envs\\Alpha\\lib\\site-packages\\keras\\engine\\base_layer.py\", line 1097, in __call__\n      outputs = call_fn(inputs, *args, **kwargs)\n    File \"C:\\Users\\tzim3\\anaconda3\\envs\\Alpha\\lib\\site-packages\\keras\\utils\\traceback_utils.py\", line 96, in error_handler\n      return fn(*args, **kwargs)\n    File \"C:\\Users\\tzim3\\anaconda3\\envs\\Alpha\\lib\\site-packages\\transformers\\modeling_tf_utils.py\", line 753, in run_call_with_unpacked_inputs\n      mismatched_keys.update(mismatched_keys_set)\n    File \"C:\\Users\\tzim3\\anaconda3\\envs\\Alpha\\lib\\site-packages\\transformers\\models\\bert\\modeling_tf_bert.py\", line 862, in call\n      encoder_outputs = self.encoder(\n    File \"C:\\Users\\tzim3\\anaconda3\\envs\\Alpha\\lib\\site-packages\\keras\\utils\\traceback_utils.py\", line 65, in error_handler\n      return fn(*args, **kwargs)\n    File \"C:\\Users\\tzim3\\anaconda3\\envs\\Alpha\\lib\\site-packages\\keras\\engine\\base_layer.py\", line 1097, in __call__\n      outputs = call_fn(inputs, *args, **kwargs)\n    File \"C:\\Users\\tzim3\\anaconda3\\envs\\Alpha\\lib\\site-packages\\keras\\utils\\traceback_utils.py\", line 96, in error_handler\n      return fn(*args, **kwargs)\n    File \"C:\\Users\\tzim3\\anaconda3\\envs\\Alpha\\lib\\site-packages\\transformers\\models\\bert\\modeling_tf_bert.py\", line 548, in call\n      for i, layer_module in enumerate(self.layer):\n    File \"C:\\Users\\tzim3\\anaconda3\\envs\\Alpha\\lib\\site-packages\\transformers\\models\\bert\\modeling_tf_bert.py\", line 554, in call\n      layer_outputs = layer_module(\n    File \"C:\\Users\\tzim3\\anaconda3\\envs\\Alpha\\lib\\site-packages\\keras\\utils\\traceback_utils.py\", line 65, in error_handler\n      return fn(*args, **kwargs)\n    File \"C:\\Users\\tzim3\\anaconda3\\envs\\Alpha\\lib\\site-packages\\keras\\engine\\base_layer.py\", line 1097, in __call__\n      outputs = call_fn(inputs, *args, **kwargs)\n    File \"C:\\Users\\tzim3\\anaconda3\\envs\\Alpha\\lib\\site-packages\\keras\\utils\\traceback_utils.py\", line 96, in error_handler\n      return fn(*args, **kwargs)\n    File \"C:\\Users\\tzim3\\anaconda3\\envs\\Alpha\\lib\\site-packages\\transformers\\models\\bert\\modeling_tf_bert.py\", line 464, in call\n      self_attention_outputs = self.attention(\n    File \"C:\\Users\\tzim3\\anaconda3\\envs\\Alpha\\lib\\site-packages\\keras\\utils\\traceback_utils.py\", line 65, in error_handler\n      return fn(*args, **kwargs)\n    File \"C:\\Users\\tzim3\\anaconda3\\envs\\Alpha\\lib\\site-packages\\keras\\engine\\base_layer.py\", line 1097, in __call__\n      outputs = call_fn(inputs, *args, **kwargs)\n    File \"C:\\Users\\tzim3\\anaconda3\\envs\\Alpha\\lib\\site-packages\\keras\\utils\\traceback_utils.py\", line 96, in error_handler\n      return fn(*args, **kwargs)\n    File \"C:\\Users\\tzim3\\anaconda3\\envs\\Alpha\\lib\\site-packages\\transformers\\models\\bert\\modeling_tf_bert.py\", line 380, in call\n      self_outputs = self.self_attention(\n    File \"C:\\Users\\tzim3\\anaconda3\\envs\\Alpha\\lib\\site-packages\\keras\\utils\\traceback_utils.py\", line 65, in error_handler\n      return fn(*args, **kwargs)\n    File \"C:\\Users\\tzim3\\anaconda3\\envs\\Alpha\\lib\\site-packages\\keras\\engine\\base_layer.py\", line 1097, in __call__\n      outputs = call_fn(inputs, *args, **kwargs)\n    File \"C:\\Users\\tzim3\\anaconda3\\envs\\Alpha\\lib\\site-packages\\keras\\utils\\traceback_utils.py\", line 96, in error_handler\n      return fn(*args, **kwargs)\n    File \"C:\\Users\\tzim3\\anaconda3\\envs\\Alpha\\lib\\site-packages\\transformers\\models\\bert\\modeling_tf_bert.py\", line 323, in call\n      attention_probs = self.dropout(inputs=attention_probs, training=training)\n    File \"C:\\Users\\tzim3\\anaconda3\\envs\\Alpha\\lib\\site-packages\\keras\\utils\\traceback_utils.py\", line 65, in error_handler\n      return fn(*args, **kwargs)\n    File \"C:\\Users\\tzim3\\anaconda3\\envs\\Alpha\\lib\\site-packages\\keras\\engine\\base_layer.py\", line 1097, in __call__\n      outputs = call_fn(inputs, *args, **kwargs)\n    File \"C:\\Users\\tzim3\\anaconda3\\envs\\Alpha\\lib\\site-packages\\keras\\utils\\traceback_utils.py\", line 96, in error_handler\n      return fn(*args, **kwargs)\n    File \"C:\\Users\\tzim3\\anaconda3\\envs\\Alpha\\lib\\site-packages\\keras\\layers\\regularization\\dropout.py\", line 116, in call\n      output = control_flow_util.smart_cond(\n    File \"C:\\Users\\tzim3\\anaconda3\\envs\\Alpha\\lib\\site-packages\\keras\\utils\\control_flow_util.py\", line 108, in smart_cond\n      return tf.__internal__.smart_cond.smart_cond(\n    File \"C:\\Users\\tzim3\\anaconda3\\envs\\Alpha\\lib\\site-packages\\keras\\layers\\regularization\\dropout.py\", line 112, in dropped_inputs\n      return self._random_generator.dropout(\n    File \"C:\\Users\\tzim3\\anaconda3\\envs\\Alpha\\lib\\site-packages\\keras\\backend.py\", line 2162, in dropout\n      return tf.nn.dropout(\nNode: 'model_2/bert/encoder/layer_._9/attention/self/dropout_65/dropout/random_uniform/RandomUniform'\nOOM when allocating tensor with shape[16,12,512,512] and type float on /job:localhost/replica:0/task:0/device:CPU:0 by allocator mklcpu\n\t [[{{node model_2/bert/encoder/layer_._9/attention/self/dropout_65/dropout/random_uniform/RandomUniform}}]]\nHint: If you want to see a list of allocated tensors when OOM happens, add report_tensor_allocations_upon_oom to RunOptions for current allocation info. This isn't available when running in Eager mode.\n [Op:__inference_train_function_36609]"
     ]
    }
   ],
   "source": [
    "history = model.fit(\n",
    "    train_ds,\n",
    "    validation_data=val_ds,\n",
    "    epochs=3\n",
    ")"
   ],
   "metadata": {
    "collapsed": false
   }
  },
  {
   "cell_type": "code",
   "execution_count": null,
   "outputs": [],
   "source": [
    "model.save('sentiment_model')"
   ],
   "metadata": {
    "collapsed": false
   }
  },
  {
   "cell_type": "code",
   "execution_count": 2,
   "outputs": [],
   "source": [
    "import tensorflow as tf"
   ],
   "metadata": {
    "collapsed": false
   }
  },
  {
   "cell_type": "code",
   "execution_count": 5,
   "outputs": [
    {
     "name": "stdout",
     "output_type": "stream",
     "text": [
      "2.0.0+cpu\n"
     ]
    }
   ],
   "source": [
    "import torch\n",
    "print(torch.__version__)"
   ],
   "metadata": {
    "collapsed": false
   }
  },
  {
   "cell_type": "markdown",
   "source": [
    "LOAD AND PREDICT SECTION"
   ],
   "metadata": {
    "collapsed": false
   }
  },
  {
   "cell_type": "code",
   "execution_count": null,
   "outputs": [],
   "source": [
    "import tensorflow as tf\n",
    "model = tf.keras.models.load_model('sentiment_model')\n",
    "# view model architecture to confirm we have save and loaded correctly\n",
    "model.summary()"
   ],
   "metadata": {
    "collapsed": false
   }
  },
  {
   "cell_type": "code",
   "execution_count": null,
   "outputs": [],
   "source": [
    "from transformers import BertTokenizer\n",
    "\n",
    "tokenizer = BertTokenizer.from_pretrained('bert-base-cased')\n",
    "\n",
    "def prep_data(text):\n",
    "    tokens = tokenizer.encode_plus(text, max_length=512,\n",
    "                                   truncation=True, padding='max_length',\n",
    "                                   add_special_tokens=True, return_token_type_ids=False,\n",
    "                                   return_tensors='tf')\n",
    "    # tokenizer returns int32 tensors, we need to return float64, so we use tf.cast\n",
    "    return {'input_ids': tf.cast(tokens['input_ids'], tf.float64),\n",
    "            'attention_mask': tf.cast(tokens['attention_mask'], tf.float64)}"
   ],
   "metadata": {
    "collapsed": false
   }
  },
  {
   "cell_type": "code",
   "execution_count": null,
   "outputs": [],
   "source": [
    "probs = model.predict(prep_data(\"hello world\"))[0]\n",
    "\n",
    "probs"
   ],
   "metadata": {
    "collapsed": false
   }
  },
  {
   "cell_type": "code",
   "execution_count": null,
   "outputs": [],
   "source": [
    "import numpy as np\n",
    "\n",
    "np.argmax(probs)"
   ],
   "metadata": {
    "collapsed": false
   }
  },
  {
   "cell_type": "code",
   "execution_count": null,
   "outputs": [],
   "source": [
    "import pandas as pd\n",
    "\n",
    "# so we can see full phrase\n",
    "pd.set_option('display.max_colwidth', None)\n",
    "\n",
    "df = pd.read_csv('test.tsv', sep='\\t')\n",
    "df.head()"
   ],
   "metadata": {
    "collapsed": false
   }
  },
  {
   "cell_type": "code",
   "execution_count": null,
   "outputs": [],
   "source": [
    "df = df.drop_duplicates(subset=['SentenceId'], keep='first')\n",
    "df.head()"
   ],
   "metadata": {
    "collapsed": false
   }
  },
  {
   "cell_type": "code",
   "execution_count": null,
   "outputs": [],
   "source": [
    "df['Sentiment'] = None\n",
    "\n",
    "for i, row in df.iterrows():\n",
    "    # get token tensors\n",
    "    tokens = prep_data(row['Phrase'])\n",
    "    # get probabilities\n",
    "    probs = model.predict(tokens)\n",
    "    # find argmax for winning class\n",
    "    pred = np.argmax(probs)\n",
    "    # add to dataframe\n",
    "    df.at[i, 'Sentiment'] = pred\n",
    "\n",
    "df.head()"
   ],
   "metadata": {
    "collapsed": false
   }
  },
  {
   "cell_type": "code",
   "execution_count": null,
   "outputs": [],
   "source": [
    "df.tail()"
   ],
   "metadata": {
    "collapsed": false
   }
  },
  {
   "cell_type": "code",
   "execution_count": null,
   "outputs": [],
   "source": [],
   "metadata": {
    "collapsed": false
   }
  },
  {
   "cell_type": "code",
   "execution_count": null,
   "outputs": [],
   "source": [],
   "metadata": {
    "collapsed": false
   }
  }
 ],
 "metadata": {
  "kernelspec": {
   "display_name": "Python 3",
   "language": "python",
   "name": "python3"
  },
  "language_info": {
   "codemirror_mode": {
    "name": "ipython",
    "version": 2
   },
   "file_extension": ".py",
   "mimetype": "text/x-python",
   "name": "python",
   "nbconvert_exporter": "python",
   "pygments_lexer": "ipython2",
   "version": "2.7.6"
  }
 },
 "nbformat": 4,
 "nbformat_minor": 0
}
